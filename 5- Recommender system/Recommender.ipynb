{
 "cells": [
  {
   "cell_type": "markdown",
   "source": [
    "# Recommender \r\n",
    "\r\n",
    "\r\n",
    "[![Open In Colab](https://colab.research.google.com/assets/colab-badge.svg)](https://colab.research.google.com/github/mahdi-ebrahimi-per/AI/blob/main/5-%20Recommender/Recommender.ipynb)\r\n",
    "\r\n",
    "<br>\r\n",
    "<br>\r\n",
    "<br>\r\n"
   ],
   "metadata": {}
  },
  {
   "cell_type": "code",
   "execution_count": null,
   "source": [],
   "outputs": [],
   "metadata": {}
  }
 ],
 "metadata": {
  "orig_nbformat": 4,
  "language_info": {
   "name": "python"
  }
 },
 "nbformat": 4,
 "nbformat_minor": 2
}