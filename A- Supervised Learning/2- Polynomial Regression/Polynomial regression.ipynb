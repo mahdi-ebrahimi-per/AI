{
 "cells": [
  {
   "cell_type": "code",
   "execution_count": 7,
   "metadata": {},
   "outputs": [],
   "source": [
    "import numpy as np\n",
    "import matplotlib.pyplot as plt\n",
    "import pandas as pd\n",
    "import seaborn as sns\n"
   ]
  },
  {
   "cell_type": "code",
   "execution_count": null,
   "metadata": {},
   "outputs": [
    {
     "ename": "KaggleApiHTTPError",
     "evalue": "403 Client Error.\n\nYou don't have permission to access resource at URL: https://www.kaggle.com/datasets/mirajdeepbhandari/polynomial-regression. Please make sure you are authenticated if you are trying to access a private resource or a resource requiring consent.",
     "output_type": "error",
     "traceback": [
      "\u001b[1;31m---------------------------------------------------------------------------\u001b[0m",
      "\u001b[1;31mHTTPError\u001b[0m                                 Traceback (most recent call last)",
      "File \u001b[1;32mc:\\Users\\mahdi\\AppData\\Local\\Programs\\Python\\Python312\\Lib\\site-packages\\kagglehub\\exceptions.py:66\u001b[0m, in \u001b[0;36mkaggle_api_raise_for_status\u001b[1;34m(response, resource_handle)\u001b[0m\n\u001b[0;32m     65\u001b[0m \u001b[38;5;28;01mtry\u001b[39;00m:\n\u001b[1;32m---> 66\u001b[0m     \u001b[43mresponse\u001b[49m\u001b[38;5;241;43m.\u001b[39;49m\u001b[43mraise_for_status\u001b[49m\u001b[43m(\u001b[49m\u001b[43m)\u001b[49m\n\u001b[0;32m     67\u001b[0m \u001b[38;5;28;01mexcept\u001b[39;00m requests\u001b[38;5;241m.\u001b[39mHTTPError \u001b[38;5;28;01mas\u001b[39;00m e:\n",
      "File \u001b[1;32mc:\\Users\\mahdi\\AppData\\Local\\Programs\\Python\\Python312\\Lib\\site-packages\\requests\\models.py:1024\u001b[0m, in \u001b[0;36mResponse.raise_for_status\u001b[1;34m(self)\u001b[0m\n\u001b[0;32m   1023\u001b[0m \u001b[38;5;28;01mif\u001b[39;00m http_error_msg:\n\u001b[1;32m-> 1024\u001b[0m     \u001b[38;5;28;01mraise\u001b[39;00m HTTPError(http_error_msg, response\u001b[38;5;241m=\u001b[39m\u001b[38;5;28mself\u001b[39m)\n",
      "\u001b[1;31mHTTPError\u001b[0m: 403 Client Error: Forbidden for url: https://www.kaggle.com/api/v1/datasets/view/mirajdeepbhandari/polynomial-regression",
      "\nThe above exception was the direct cause of the following exception:\n",
      "\u001b[1;31mKaggleApiHTTPError\u001b[0m                        Traceback (most recent call last)",
      "Cell \u001b[1;32mIn[8], line 3\u001b[0m\n\u001b[0;32m      1\u001b[0m \u001b[38;5;28;01mimport\u001b[39;00m \u001b[38;5;21;01mkagglehub\u001b[39;00m\n\u001b[1;32m----> 3\u001b[0m path \u001b[38;5;241m=\u001b[39m \u001b[43mkagglehub\u001b[49m\u001b[38;5;241;43m.\u001b[39;49m\u001b[43mdataset_download\u001b[49m\u001b[43m(\u001b[49m\u001b[38;5;124;43m\"\u001b[39;49m\u001b[38;5;124;43mmirajdeepbhandari/polynomial-regression\u001b[39;49m\u001b[38;5;124;43m\"\u001b[39;49m\u001b[43m)\u001b[49m\n\u001b[0;32m      5\u001b[0m path \u001b[38;5;241m=\u001b[39m \u001b[38;5;124mf\u001b[39m\u001b[38;5;124m\"\u001b[39m\u001b[38;5;132;01m{\u001b[39;00mpath\u001b[38;5;132;01m}\u001b[39;00m\u001b[38;5;130;01m\\\\\u001b[39;00m\u001b[38;5;124mIce_cream selling data.csv\u001b[39m\u001b[38;5;124m\"\u001b[39m\n\u001b[0;32m      8\u001b[0m df \u001b[38;5;241m=\u001b[39m pd\u001b[38;5;241m.\u001b[39mread_csv(path, names\u001b[38;5;241m=\u001b[39m[\u001b[38;5;124m\"\u001b[39m\u001b[38;5;124mTemp\u001b[39m\u001b[38;5;124m\"\u001b[39m, \u001b[38;5;124m\"\u001b[39m\u001b[38;5;124mSales\u001b[39m\u001b[38;5;124m\"\u001b[39m], header\u001b[38;5;241m=\u001b[39m\u001b[38;5;241m0\u001b[39m)\n",
      "File \u001b[1;32mc:\\Users\\mahdi\\AppData\\Local\\Programs\\Python\\Python312\\Lib\\site-packages\\kagglehub\\datasets.py:35\u001b[0m, in \u001b[0;36mdataset_download\u001b[1;34m(handle, path, force_download)\u001b[0m\n\u001b[0;32m     33\u001b[0m h \u001b[38;5;241m=\u001b[39m parse_dataset_handle(handle)\n\u001b[0;32m     34\u001b[0m logger\u001b[38;5;241m.\u001b[39minfo(\u001b[38;5;124mf\u001b[39m\u001b[38;5;124m\"\u001b[39m\u001b[38;5;124mDownloading Dataset: \u001b[39m\u001b[38;5;132;01m{\u001b[39;00mh\u001b[38;5;241m.\u001b[39mto_url()\u001b[38;5;132;01m}\u001b[39;00m\u001b[38;5;124m ...\u001b[39m\u001b[38;5;124m\"\u001b[39m, extra\u001b[38;5;241m=\u001b[39m{\u001b[38;5;241m*\u001b[39m\u001b[38;5;241m*\u001b[39mEXTRA_CONSOLE_BLOCK})\n\u001b[1;32m---> 35\u001b[0m path, _ \u001b[38;5;241m=\u001b[39m \u001b[43mregistry\u001b[49m\u001b[38;5;241;43m.\u001b[39;49m\u001b[43mdataset_resolver\u001b[49m\u001b[43m(\u001b[49m\u001b[43mh\u001b[49m\u001b[43m,\u001b[49m\u001b[43m \u001b[49m\u001b[43mpath\u001b[49m\u001b[43m,\u001b[49m\u001b[43m \u001b[49m\u001b[43mforce_download\u001b[49m\u001b[38;5;241;43m=\u001b[39;49m\u001b[43mforce_download\u001b[49m\u001b[43m)\u001b[49m\n\u001b[0;32m     36\u001b[0m \u001b[38;5;28;01mreturn\u001b[39;00m path\n",
      "File \u001b[1;32mc:\\Users\\mahdi\\AppData\\Local\\Programs\\Python\\Python312\\Lib\\site-packages\\kagglehub\\registry.py:28\u001b[0m, in \u001b[0;36mMultiImplRegistry.__call__\u001b[1;34m(self, *args, **kwargs)\u001b[0m\n\u001b[0;32m     26\u001b[0m \u001b[38;5;28;01mfor\u001b[39;00m impl \u001b[38;5;129;01min\u001b[39;00m \u001b[38;5;28mreversed\u001b[39m(\u001b[38;5;28mself\u001b[39m\u001b[38;5;241m.\u001b[39m_impls):\n\u001b[0;32m     27\u001b[0m     \u001b[38;5;28;01mif\u001b[39;00m impl\u001b[38;5;241m.\u001b[39mis_supported(\u001b[38;5;241m*\u001b[39margs, \u001b[38;5;241m*\u001b[39m\u001b[38;5;241m*\u001b[39mkwargs):\n\u001b[1;32m---> 28\u001b[0m         \u001b[38;5;28;01mreturn\u001b[39;00m \u001b[43mimpl\u001b[49m\u001b[43m(\u001b[49m\u001b[38;5;241;43m*\u001b[39;49m\u001b[43margs\u001b[49m\u001b[43m,\u001b[49m\u001b[43m \u001b[49m\u001b[38;5;241;43m*\u001b[39;49m\u001b[38;5;241;43m*\u001b[39;49m\u001b[43mkwargs\u001b[49m\u001b[43m)\u001b[49m\n\u001b[0;32m     29\u001b[0m     \u001b[38;5;28;01melse\u001b[39;00m:\n\u001b[0;32m     30\u001b[0m         fails\u001b[38;5;241m.\u001b[39mappend(\u001b[38;5;28mtype\u001b[39m(impl)\u001b[38;5;241m.\u001b[39m\u001b[38;5;18m__name__\u001b[39m)\n",
      "File \u001b[1;32mc:\\Users\\mahdi\\AppData\\Local\\Programs\\Python\\Python312\\Lib\\site-packages\\kagglehub\\resolver.py:29\u001b[0m, in \u001b[0;36mResolver.__call__\u001b[1;34m(self, handle, path, force_download)\u001b[0m\n\u001b[0;32m     15\u001b[0m \u001b[38;5;28;01mdef\u001b[39;00m \u001b[38;5;21m__call__\u001b[39m(\n\u001b[0;32m     16\u001b[0m     \u001b[38;5;28mself\u001b[39m, handle: T, path: Optional[\u001b[38;5;28mstr\u001b[39m] \u001b[38;5;241m=\u001b[39m \u001b[38;5;28;01mNone\u001b[39;00m, \u001b[38;5;241m*\u001b[39m, force_download: Optional[\u001b[38;5;28mbool\u001b[39m] \u001b[38;5;241m=\u001b[39m \u001b[38;5;28;01mFalse\u001b[39;00m\n\u001b[0;32m     17\u001b[0m ) \u001b[38;5;241m-\u001b[39m\u001b[38;5;241m>\u001b[39m \u001b[38;5;28mtuple\u001b[39m[\u001b[38;5;28mstr\u001b[39m, Optional[\u001b[38;5;28mint\u001b[39m]]:\n\u001b[0;32m     18\u001b[0m \u001b[38;5;250m    \u001b[39m\u001b[38;5;124;03m\"\"\"Resolves a handle into a path with the requested file(s) and the resource's version number.\u001b[39;00m\n\u001b[0;32m     19\u001b[0m \n\u001b[0;32m     20\u001b[0m \u001b[38;5;124;03m    Args:\u001b[39;00m\n\u001b[1;32m   (...)\u001b[0m\n\u001b[0;32m     27\u001b[0m \u001b[38;5;124;03m        Some cases where version number might be missing: Competition datasource, API-based models.\u001b[39;00m\n\u001b[0;32m     28\u001b[0m \u001b[38;5;124;03m    \"\"\"\u001b[39;00m\n\u001b[1;32m---> 29\u001b[0m     path, version \u001b[38;5;241m=\u001b[39m \u001b[38;5;28;43mself\u001b[39;49m\u001b[38;5;241;43m.\u001b[39;49m\u001b[43m_resolve\u001b[49m\u001b[43m(\u001b[49m\u001b[43mhandle\u001b[49m\u001b[43m,\u001b[49m\u001b[43m \u001b[49m\u001b[43mpath\u001b[49m\u001b[43m,\u001b[49m\u001b[43m \u001b[49m\u001b[43mforce_download\u001b[49m\u001b[38;5;241;43m=\u001b[39;49m\u001b[43mforce_download\u001b[49m\u001b[43m)\u001b[49m\n\u001b[0;32m     31\u001b[0m     \u001b[38;5;66;03m# Note handles are immutable, so _resolve() could not have altered our reference\u001b[39;00m\n\u001b[0;32m     32\u001b[0m     register_datasource_access(handle, version)\n",
      "File \u001b[1;32mc:\\Users\\mahdi\\AppData\\Local\\Programs\\Python\\Python312\\Lib\\site-packages\\kagglehub\\http_resolver.py:107\u001b[0m, in \u001b[0;36mDatasetHttpResolver._resolve\u001b[1;34m(self, h, path, force_download)\u001b[0m\n\u001b[0;32m    104\u001b[0m api_client \u001b[38;5;241m=\u001b[39m KaggleApiV1Client()\n\u001b[0;32m    106\u001b[0m \u001b[38;5;28;01mif\u001b[39;00m \u001b[38;5;129;01mnot\u001b[39;00m h\u001b[38;5;241m.\u001b[39mis_versioned():\n\u001b[1;32m--> 107\u001b[0m     h \u001b[38;5;241m=\u001b[39m h\u001b[38;5;241m.\u001b[39mwith_version(\u001b[43m_get_current_version\u001b[49m\u001b[43m(\u001b[49m\u001b[43mapi_client\u001b[49m\u001b[43m,\u001b[49m\u001b[43m \u001b[49m\u001b[43mh\u001b[49m\u001b[43m)\u001b[49m)\n\u001b[0;32m    109\u001b[0m dataset_path \u001b[38;5;241m=\u001b[39m load_from_cache(h, path)\n\u001b[0;32m    110\u001b[0m \u001b[38;5;28;01mif\u001b[39;00m dataset_path \u001b[38;5;129;01mand\u001b[39;00m \u001b[38;5;129;01mnot\u001b[39;00m force_download:\n",
      "File \u001b[1;32mc:\\Users\\mahdi\\AppData\\Local\\Programs\\Python\\Python312\\Lib\\site-packages\\kagglehub\\http_resolver.py:290\u001b[0m, in \u001b[0;36m_get_current_version\u001b[1;34m(api_client, h)\u001b[0m\n\u001b[0;32m    287\u001b[0m     \u001b[38;5;28;01mreturn\u001b[39;00m json_response[MODEL_INSTANCE_VERSION_FIELD]\n\u001b[0;32m    289\u001b[0m \u001b[38;5;28;01melif\u001b[39;00m \u001b[38;5;28misinstance\u001b[39m(h, DatasetHandle):\n\u001b[1;32m--> 290\u001b[0m     json_response \u001b[38;5;241m=\u001b[39m \u001b[43mapi_client\u001b[49m\u001b[38;5;241;43m.\u001b[39;49m\u001b[43mget\u001b[49m\u001b[43m(\u001b[49m\u001b[43m_build_get_dataset_url_path\u001b[49m\u001b[43m(\u001b[49m\u001b[43mh\u001b[49m\u001b[43m)\u001b[49m\u001b[43m,\u001b[49m\u001b[43m \u001b[49m\u001b[43mh\u001b[49m\u001b[43m)\u001b[49m\n\u001b[0;32m    291\u001b[0m     \u001b[38;5;28;01mif\u001b[39;00m DATASET_CURRENT_VERSION_FIELD \u001b[38;5;129;01mnot\u001b[39;00m \u001b[38;5;129;01min\u001b[39;00m json_response:\n\u001b[0;32m    292\u001b[0m         msg \u001b[38;5;241m=\u001b[39m \u001b[38;5;124mf\u001b[39m\u001b[38;5;124m\"\u001b[39m\u001b[38;5;124mInvalid GetDataset API response. Expected to include a \u001b[39m\u001b[38;5;132;01m{\u001b[39;00mDATASET_CURRENT_VERSION_FIELD\u001b[38;5;132;01m}\u001b[39;00m\u001b[38;5;124m field\u001b[39m\u001b[38;5;124m\"\u001b[39m\n",
      "File \u001b[1;32mc:\\Users\\mahdi\\AppData\\Local\\Programs\\Python\\Python312\\Lib\\site-packages\\kagglehub\\clients.py:139\u001b[0m, in \u001b[0;36mKaggleApiV1Client.get\u001b[1;34m(self, path, resource_handle)\u001b[0m\n\u001b[0;32m    132\u001b[0m url \u001b[38;5;241m=\u001b[39m \u001b[38;5;28mself\u001b[39m\u001b[38;5;241m.\u001b[39m_build_url(path)\n\u001b[0;32m    133\u001b[0m \u001b[38;5;28;01mwith\u001b[39;00m requests\u001b[38;5;241m.\u001b[39mget(\n\u001b[0;32m    134\u001b[0m     url,\n\u001b[0;32m    135\u001b[0m     headers\u001b[38;5;241m=\u001b[39m{\u001b[38;5;124m\"\u001b[39m\u001b[38;5;124mUser-Agent\u001b[39m\u001b[38;5;124m\"\u001b[39m: get_user_agent()},\n\u001b[0;32m    136\u001b[0m     auth\u001b[38;5;241m=\u001b[39m\u001b[38;5;28mself\u001b[39m\u001b[38;5;241m.\u001b[39m_get_auth(),\n\u001b[0;32m    137\u001b[0m     timeout\u001b[38;5;241m=\u001b[39m(DEFAULT_CONNECT_TIMEOUT, DEFAULT_READ_TIMEOUT),\n\u001b[0;32m    138\u001b[0m ) \u001b[38;5;28;01mas\u001b[39;00m response:\n\u001b[1;32m--> 139\u001b[0m     \u001b[43mkaggle_api_raise_for_status\u001b[49m\u001b[43m(\u001b[49m\u001b[43mresponse\u001b[49m\u001b[43m,\u001b[49m\u001b[43m \u001b[49m\u001b[43mresource_handle\u001b[49m\u001b[43m)\u001b[49m\n\u001b[0;32m    140\u001b[0m     \u001b[38;5;28mself\u001b[39m\u001b[38;5;241m.\u001b[39m_check_for_version_update(response)\n\u001b[0;32m    141\u001b[0m     \u001b[38;5;28;01mreturn\u001b[39;00m response\u001b[38;5;241m.\u001b[39mjson()\n",
      "File \u001b[1;32mc:\\Users\\mahdi\\AppData\\Local\\Programs\\Python\\Python312\\Lib\\site-packages\\kagglehub\\exceptions.py:106\u001b[0m, in \u001b[0;36mkaggle_api_raise_for_status\u001b[1;34m(response, resource_handle)\u001b[0m\n\u001b[0;32m     97\u001b[0m     message \u001b[38;5;241m=\u001b[39m (\n\u001b[0;32m     98\u001b[0m         \u001b[38;5;124mf\u001b[39m\u001b[38;5;124m\"\u001b[39m\u001b[38;5;132;01m{\u001b[39;00mresponse\u001b[38;5;241m.\u001b[39mstatus_code\u001b[38;5;132;01m}\u001b[39;00m\u001b[38;5;124m Client Error.\u001b[39m\u001b[38;5;124m\"\u001b[39m\n\u001b[0;32m     99\u001b[0m         \u001b[38;5;124m\"\u001b[39m\u001b[38;5;130;01m\\n\u001b[39;00m\u001b[38;5;130;01m\\n\u001b[39;00m\u001b[38;5;124m\"\u001b[39m\n\u001b[1;32m   (...)\u001b[0m\n\u001b[0;32m    102\u001b[0m         \u001b[38;5;124m\"\u001b[39m\u001b[38;5;124mPlease make sure you specified the correct resource identifiers.\u001b[39m\u001b[38;5;124m\"\u001b[39m\n\u001b[0;32m    103\u001b[0m     )\n\u001b[0;32m    105\u001b[0m \u001b[38;5;66;03m# Default handling\u001b[39;00m\n\u001b[1;32m--> 106\u001b[0m \u001b[38;5;28;01mraise\u001b[39;00m KaggleApiHTTPError(message, response\u001b[38;5;241m=\u001b[39mresponse) \u001b[38;5;28;01mfrom\u001b[39;00m \u001b[38;5;21;01me\u001b[39;00m\n",
      "\u001b[1;31mKaggleApiHTTPError\u001b[0m: 403 Client Error.\n\nYou don't have permission to access resource at URL: https://www.kaggle.com/datasets/mirajdeepbhandari/polynomial-regression. Please make sure you are authenticated if you are trying to access a private resource or a resource requiring consent."
     ]
    }
   ],
   "source": [
    "import kagglehub\n",
    "\n",
    "try:\n",
    "    path = kagglehub.dataset_download(\"mirajdeepbhandari/polynomial-regression\")\n",
    "    path = f\"{path}\\\\Ice_cream selling data.csv\"\n",
    "\n",
    "    try:\n",
    "        df = pd.read_csv(path, names=[\"Temp\", \"Sales\"], header=0)\n",
    "    except:\n",
    "        raise error\n",
    "# [\"Temperature (°C)\", \"Ice Cream Sales (units)\"]\n",
    "\n"
   ]
  },
  {
   "cell_type": "code",
   "execution_count": null,
   "metadata": {},
   "outputs": [
    {
     "data": {
      "text/html": [
       "<div>\n",
       "<style scoped>\n",
       "    .dataframe tbody tr th:only-of-type {\n",
       "        vertical-align: middle;\n",
       "    }\n",
       "\n",
       "    .dataframe tbody tr th {\n",
       "        vertical-align: top;\n",
       "    }\n",
       "\n",
       "    .dataframe thead th {\n",
       "        text-align: right;\n",
       "    }\n",
       "</style>\n",
       "<table border=\"1\" class=\"dataframe\">\n",
       "  <thead>\n",
       "    <tr style=\"text-align: right;\">\n",
       "      <th></th>\n",
       "      <th>Temp</th>\n",
       "      <th>Sales</th>\n",
       "    </tr>\n",
       "  </thead>\n",
       "  <tbody>\n",
       "    <tr>\n",
       "      <th>0</th>\n",
       "      <td>-4.662263</td>\n",
       "      <td>41.842986</td>\n",
       "    </tr>\n",
       "    <tr>\n",
       "      <th>1</th>\n",
       "      <td>-4.316559</td>\n",
       "      <td>34.661120</td>\n",
       "    </tr>\n",
       "    <tr>\n",
       "      <th>2</th>\n",
       "      <td>-4.213985</td>\n",
       "      <td>39.383001</td>\n",
       "    </tr>\n",
       "    <tr>\n",
       "      <th>3</th>\n",
       "      <td>-3.949661</td>\n",
       "      <td>37.539845</td>\n",
       "    </tr>\n",
       "    <tr>\n",
       "      <th>4</th>\n",
       "      <td>-3.578554</td>\n",
       "      <td>32.284531</td>\n",
       "    </tr>\n",
       "  </tbody>\n",
       "</table>\n",
       "</div>"
      ],
      "text/plain": [
       "       Temp      Sales\n",
       "0 -4.662263  41.842986\n",
       "1 -4.316559  34.661120\n",
       "2 -4.213985  39.383001\n",
       "3 -3.949661  37.539845\n",
       "4 -3.578554  32.284531"
      ]
     },
     "execution_count": 119,
     "metadata": {},
     "output_type": "execute_result"
    }
   ],
   "source": [
    "df.head()"
   ]
  },
  {
   "cell_type": "code",
   "execution_count": null,
   "metadata": {},
   "outputs": [
    {
     "data": {
      "text/plain": [
       "<Axes: xlabel='Temp', ylabel='Sales'>"
      ]
     },
     "execution_count": 120,
     "metadata": {},
     "output_type": "execute_result"
    },
    {
     "data": {
      "image/png": "[encoded data removed]",
      "text/plain": [
       "<Figure size 640x480 with 1 Axes>"
      ]
     },
     "metadata": {},
     "output_type": "display_data"
    }
   ],
   "source": [
    "sns.set()\n",
    "\n",
    "sns.scatterplot(df, x=\"Temp\", y=\"Sales\")\n",
    "\n"
   ]
  },
  {
   "cell_type": "code",
   "execution_count": null,
   "metadata": {},
   "outputs": [],
   "source": [
    "# 3. توابع مورد نیاز\n",
    "def polynomial_features(X, degree):\n",
    "    \"\"\"افزودن ویژگی‌های چند جمله‌ای به داده‌ها\"\"\"\n",
    "    return np.vstack([X**i for i in range(degree + 1)]).T\n",
    "\n",
    "def predict(X_poly, weights):\n",
    "    \"\"\"پیش‌بینی با استفاده از وزن‌ها\"\"\"\n",
    "    return X_poly.dot(weights)\n",
    "\n",
    "def MSE(X, y, weights):\n",
    "    m = len(y)\n",
    "    predictions = predict(X, weights)\n",
    "    cost = (1 / (2 * m)) * np.sum(np.square(predictions - y))\n",
    "    return cost\n",
    "\n",
    "def compute_gradient(X, y, weights):\n",
    "    \"\"\"محاسبه گرادیان\"\"\"\n",
    "    m = len(y)\n",
    "    predictions = predict(X, weights)\n",
    "    gradient = (1 / m) * X.T.dot(predictions - y)\n",
    "    return gradient\n",
    "\n",
    "\n",
    "def gradient_descent(X, y, weights, learning_rate, iterations):\n",
    "    cost_history = []\n",
    "    weights_history = []  # ذخیره وزن‌ها\n",
    "\n",
    "    for _ in range(iterations):\n",
    "        # محاسبه گرادیان\n",
    "        gradient = compute_gradient(X, y, weights)\n",
    "\n",
    "        # به‌روزرسانی وزن‌ها\n",
    "        weights -= learning_rate * gradient\n",
    "\n",
    "        # محاسبه هزینه\n",
    "        cost = MSE(X, y, weights)\n",
    "        cost_history.append(cost)\n",
    "        weights_history.append(weights.copy())  # ذخیره وزن‌های فعلی\n",
    "\n",
    "    return weights, cost_history, weights_history  # بازگشت وزن‌ها و تاریخچه وزن‌ها"
   ]
  },
  {
   "cell_type": "code",
   "execution_count": null,
   "metadata": {},
   "outputs": [],
   "source": [
    "X = df['Temp'].values \n",
    "y = df['Sales'].values "
   ]
  },
  {
   "cell_type": "code",
   "execution_count": null,
   "metadata": {},
   "outputs": [],
   "source": []
  },
  {
   "cell_type": "code",
   "execution_count": null,
   "metadata": {},
   "outputs": [],
   "source": []
  },
  {
   "cell_type": "code",
   "execution_count": null,
   "metadata": {},
   "outputs": [
    {
     "data": {
      "image/png": "[encoded data removed]",
      "text/plain": [
       "<Figure size 640x480 with 1 Axes>"
      ]
     },
     "metadata": {},
     "output_type": "display_data"
    },
    {
     "name": "stdout",
     "output_type": "stream",
     "text": [
      "Final Cost: 5.003195791762874\n"
     ]
    }
   ],
   "source": [
    "\n",
    "X = df['Temp'].values \n",
    "y = df['Sales'].values \n",
    "\n",
    "def predict_by_x(x, weights):\n",
    "    return sum(weights*[1,x,x**2])\n",
    "\n",
    "\n",
    "degree = 2\n",
    "X_poly = polynomial_features(X, degree)\n",
    "\n",
    "weights = np.random.randn(X_poly.shape[1]) \n",
    "learning_rate = 0.01\n",
    "iterations = 1000\n",
    "\n",
    "weights, cost_history, weights_history = gradient_descent(X_poly, y, weights, learning_rate, iterations)\n",
    "\n",
    "plt.scatter(X, y, color='blue', label='Data')\n",
    "X_plot = np.linspace(-5, 5, 100)\n",
    "# X_plot_poly = polynomial_features(X_plot, degree)\n",
    "# y_plot = predict(X_plot_poly, weights)\n",
    "y_plot = pd.Series(X_plot).apply(lambda x : predict_by_x(x, weights=weights))\n",
    "plt.plot(X_plot, y_plot, color='red', label='Polynomial Regression')\n",
    "plt.xlabel('Feature')\n",
    "plt.ylabel('Target')\n",
    "plt.title('Polynomial Regression using Gradient Descent')\n",
    "plt.legend()\n",
    "plt.show()\n",
    "\n",
    "print(f\"Final Cost: {cost_history[-1]}\")\n",
    "\n",
    "\n",
    "\n",
    "\n"
   ]
  },
  {
   "cell_type": "code",
   "execution_count": null,
   "metadata": {},
   "outputs": [
    {
     "data": {
      "text/plain": [
       "array([[ 1.00000000e+00, -5.00000000e+00,  2.50000000e+01],\n",
       "       [ 1.00000000e+00, -4.89898990e+00,  2.40001020e+01],\n",
       "       [ 1.00000000e+00, -4.79797980e+00,  2.30206101e+01],\n",
       "       [ 1.00000000e+00, -4.69696970e+00,  2.20615243e+01],\n",
       "       [ 1.00000000e+00, -4.59595960e+00,  2.11228446e+01],\n",
       "       [ 1.00000000e+00, -4.49494949e+00,  2.02045710e+01],\n",
       "       [ 1.00000000e+00, -4.39393939e+00,  1.93067034e+01],\n",
       "       [ 1.00000000e+00, -4.29292929e+00,  1.84292419e+01],\n",
       "       [ 1.00000000e+00, -4.19191919e+00,  1.75721865e+01],\n",
       "       [ 1.00000000e+00, -4.09090909e+00,  1.67355372e+01],\n",
       "       [ 1.00000000e+00, -3.98989899e+00,  1.59192939e+01],\n",
       "       [ 1.00000000e+00, -3.88888889e+00,  1.51234568e+01],\n",
       "       [ 1.00000000e+00, -3.78787879e+00,  1.43480257e+01],\n",
       "       [ 1.00000000e+00, -3.68686869e+00,  1.35930007e+01],\n",
       "       [ 1.00000000e+00, -3.58585859e+00,  1.28583818e+01],\n",
       "       [ 1.00000000e+00, -3.48484848e+00,  1.21441690e+01],\n",
       "       [ 1.00000000e+00, -3.38383838e+00,  1.14503622e+01],\n",
       "       [ 1.00000000e+00, -3.28282828e+00,  1.07769615e+01],\n",
       "       [ 1.00000000e+00, -3.18181818e+00,  1.01239669e+01],\n",
       "       [ 1.00000000e+00, -3.08080808e+00,  9.49137843e+00],\n",
       "       [ 1.00000000e+00, -2.97979798e+00,  8.87919600e+00],\n",
       "       [ 1.00000000e+00, -2.87878788e+00,  8.28741965e+00],\n",
       "       [ 1.00000000e+00, -2.77777778e+00,  7.71604938e+00],\n",
       "       [ 1.00000000e+00, -2.67676768e+00,  7.16508520e+00],\n",
       "       [ 1.00000000e+00, -2.57575758e+00,  6.63452709e+00],\n",
       "       [ 1.00000000e+00, -2.47474747e+00,  6.12437506e+00],\n",
       "       [ 1.00000000e+00, -2.37373737e+00,  5.63462912e+00],\n",
       "       [ 1.00000000e+00, -2.27272727e+00,  5.16528926e+00],\n",
       "       [ 1.00000000e+00, -2.17171717e+00,  4.71635547e+00],\n",
       "       [ 1.00000000e+00, -2.07070707e+00,  4.28782777e+00],\n",
       "       [ 1.00000000e+00, -1.96969697e+00,  3.87970615e+00],\n",
       "       [ 1.00000000e+00, -1.86868687e+00,  3.49199061e+00],\n",
       "       [ 1.00000000e+00, -1.76767677e+00,  3.12468115e+00],\n",
       "       [ 1.00000000e+00, -1.66666667e+00,  2.77777778e+00],\n",
       "       [ 1.00000000e+00, -1.56565657e+00,  2.45128048e+00],\n",
       "       [ 1.00000000e+00, -1.46464646e+00,  2.14518927e+00],\n",
       "       [ 1.00000000e+00, -1.36363636e+00,  1.85950413e+00],\n",
       "       [ 1.00000000e+00, -1.26262626e+00,  1.59422508e+00],\n",
       "       [ 1.00000000e+00, -1.16161616e+00,  1.34935211e+00],\n",
       "       [ 1.00000000e+00, -1.06060606e+00,  1.12488522e+00],\n",
       "       [ 1.00000000e+00, -9.59595960e-01,  9.20824406e-01],\n",
       "       [ 1.00000000e+00, -8.58585859e-01,  7.37169677e-01],\n",
       "       [ 1.00000000e+00, -7.57575758e-01,  5.73921028e-01],\n",
       "       [ 1.00000000e+00, -6.56565657e-01,  4.31078461e-01],\n",
       "       [ 1.00000000e+00, -5.55555556e-01,  3.08641975e-01],\n",
       "       [ 1.00000000e+00, -4.54545455e-01,  2.06611570e-01],\n",
       "       [ 1.00000000e+00, -3.53535354e-01,  1.24987246e-01],\n",
       "       [ 1.00000000e+00, -2.52525253e-01,  6.37690032e-02],\n",
       "       [ 1.00000000e+00, -1.51515152e-01,  2.29568411e-02],\n",
       "       [ 1.00000000e+00, -5.05050505e-02,  2.55076013e-03],\n",
       "       [ 1.00000000e+00,  5.05050505e-02,  2.55076013e-03],\n",
       "       [ 1.00000000e+00,  1.51515152e-01,  2.29568411e-02],\n",
       "       [ 1.00000000e+00,  2.52525253e-01,  6.37690032e-02],\n",
       "       [ 1.00000000e+00,  3.53535354e-01,  1.24987246e-01],\n",
       "       [ 1.00000000e+00,  4.54545455e-01,  2.06611570e-01],\n",
       "       [ 1.00000000e+00,  5.55555556e-01,  3.08641975e-01],\n",
       "       [ 1.00000000e+00,  6.56565657e-01,  4.31078461e-01],\n",
       "       [ 1.00000000e+00,  7.57575758e-01,  5.73921028e-01],\n",
       "       [ 1.00000000e+00,  8.58585859e-01,  7.37169677e-01],\n",
       "       [ 1.00000000e+00,  9.59595960e-01,  9.20824406e-01],\n",
       "       [ 1.00000000e+00,  1.06060606e+00,  1.12488522e+00],\n",
       "       [ 1.00000000e+00,  1.16161616e+00,  1.34935211e+00],\n",
       "       [ 1.00000000e+00,  1.26262626e+00,  1.59422508e+00],\n",
       "       [ 1.00000000e+00,  1.36363636e+00,  1.85950413e+00],\n",
       "       [ 1.00000000e+00,  1.46464646e+00,  2.14518927e+00],\n",
       "       [ 1.00000000e+00,  1.56565657e+00,  2.45128048e+00],\n",
       "       [ 1.00000000e+00,  1.66666667e+00,  2.77777778e+00],\n",
       "       [ 1.00000000e+00,  1.76767677e+00,  3.12468115e+00],\n",
       "       [ 1.00000000e+00,  1.86868687e+00,  3.49199061e+00],\n",
       "       [ 1.00000000e+00,  1.96969697e+00,  3.87970615e+00],\n",
       "       [ 1.00000000e+00,  2.07070707e+00,  4.28782777e+00],\n",
       "       [ 1.00000000e+00,  2.17171717e+00,  4.71635547e+00],\n",
       "       [ 1.00000000e+00,  2.27272727e+00,  5.16528926e+00],\n",
       "       [ 1.00000000e+00,  2.37373737e+00,  5.63462912e+00],\n",
       "       [ 1.00000000e+00,  2.47474747e+00,  6.12437506e+00],\n",
       "       [ 1.00000000e+00,  2.57575758e+00,  6.63452709e+00],\n",
       "       [ 1.00000000e+00,  2.67676768e+00,  7.16508520e+00],\n",
       "       [ 1.00000000e+00,  2.77777778e+00,  7.71604938e+00],\n",
       "       [ 1.00000000e+00,  2.87878788e+00,  8.28741965e+00],\n",
       "       [ 1.00000000e+00,  2.97979798e+00,  8.87919600e+00],\n",
       "       [ 1.00000000e+00,  3.08080808e+00,  9.49137843e+00],\n",
       "       [ 1.00000000e+00,  3.18181818e+00,  1.01239669e+01],\n",
       "       [ 1.00000000e+00,  3.28282828e+00,  1.07769615e+01],\n",
       "       [ 1.00000000e+00,  3.38383838e+00,  1.14503622e+01],\n",
       "       [ 1.00000000e+00,  3.48484848e+00,  1.21441690e+01],\n",
       "       [ 1.00000000e+00,  3.58585859e+00,  1.28583818e+01],\n",
       "       [ 1.00000000e+00,  3.68686869e+00,  1.35930007e+01],\n",
       "       [ 1.00000000e+00,  3.78787879e+00,  1.43480257e+01],\n",
       "       [ 1.00000000e+00,  3.88888889e+00,  1.51234568e+01],\n",
       "       [ 1.00000000e+00,  3.98989899e+00,  1.59192939e+01],\n",
       "       [ 1.00000000e+00,  4.09090909e+00,  1.67355372e+01],\n",
       "       [ 1.00000000e+00,  4.19191919e+00,  1.75721865e+01],\n",
       "       [ 1.00000000e+00,  4.29292929e+00,  1.84292419e+01],\n",
       "       [ 1.00000000e+00,  4.39393939e+00,  1.93067034e+01],\n",
       "       [ 1.00000000e+00,  4.49494949e+00,  2.02045710e+01],\n",
       "       [ 1.00000000e+00,  4.59595960e+00,  2.11228446e+01],\n",
       "       [ 1.00000000e+00,  4.69696970e+00,  2.20615243e+01],\n",
       "       [ 1.00000000e+00,  4.79797980e+00,  2.30206101e+01],\n",
       "       [ 1.00000000e+00,  4.89898990e+00,  2.40001020e+01],\n",
       "       [ 1.00000000e+00,  5.00000000e+00,  2.50000000e+01]])"
      ]
     },
     "execution_count": 128,
     "metadata": {},
     "output_type": "execute_result"
    }
   ],
   "source": [
    "X_plot_poly"
   ]
  },
  {
   "cell_type": "code",
   "execution_count": null,
   "metadata": {},
   "outputs": [
    {
     "ename": "NameError",
     "evalue": "name 'weights_history' is not defined",
     "output_type": "error",
     "traceback": [
      "\u001b[1;31m---------------------------------------------------------------------------\u001b[0m",
      "\u001b[1;31mNameError\u001b[0m                                 Traceback (most recent call last)",
      "Cell \u001b[1;32mIn[4], line 1\u001b[0m\n\u001b[1;32m----> 1\u001b[0m weights_history \u001b[38;5;241m=\u001b[39m np\u001b[38;5;241m.\u001b[39marray(\u001b[43mweights_history\u001b[49m)  \u001b[38;5;66;03m# تبدیل به آرایه NumPy برای راحتی\u001b[39;00m\n\u001b[0;32m      3\u001b[0m plt\u001b[38;5;241m.\u001b[39mfigure(figsize\u001b[38;5;241m=\u001b[39m(\u001b[38;5;241m12\u001b[39m, \u001b[38;5;241m6\u001b[39m))\n\u001b[0;32m      4\u001b[0m plt\u001b[38;5;241m.\u001b[39mplot(weights_history[:, \u001b[38;5;241m0\u001b[39m], label\u001b[38;5;241m=\u001b[39m\u001b[38;5;124m'\u001b[39m\u001b[38;5;124mWeight w0\u001b[39m\u001b[38;5;124m'\u001b[39m, color\u001b[38;5;241m=\u001b[39m\u001b[38;5;124m'\u001b[39m\u001b[38;5;124mblue\u001b[39m\u001b[38;5;124m'\u001b[39m)\n",
      "\u001b[1;31mNameError\u001b[0m: name 'weights_history' is not defined"
     ]
    }
   ],
   "source": [
    "weights_history = np.array(weights_history)  # تبدیل به آرایه NumPy برای راحتی\n",
    "\n",
    "plt.figure(figsize=(12, 6))\n",
    "plt.plot(weights_history[:, 0], label='Weight w0', color='blue')\n",
    "plt.plot(weights_history[:, 1], label='Weight w1', color='orange')\n",
    "plt.plot(weights_history[:, 2], label='Weight w2', color='red')\n",
    "plt.xlabel('Iterations')\n",
    "plt.ylabel('Weights')\n",
    "plt.title('Change of Weights During Gradient Descent')\n",
    "plt.legend()\n",
    "plt.grid()\n",
    "plt.show()"
   ]
  },
  {
   "cell_type": "code",
   "execution_count": null,
   "metadata": {},
   "outputs": [
    {
     "ename": "NameError",
     "evalue": "name 'cost_history' is not defined",
     "output_type": "error",
     "traceback": [
      "\u001b[1;31m---------------------------------------------------------------------------\u001b[0m",
      "\u001b[1;31mNameError\u001b[0m                                 Traceback (most recent call last)",
      "Cell \u001b[1;32mIn[5], line 1\u001b[0m\n\u001b[1;32m----> 1\u001b[0m plt\u001b[38;5;241m.\u001b[39mplot(\u001b[43mcost_history\u001b[49m)\n",
      "\u001b[1;31mNameError\u001b[0m: name 'cost_history' is not defined"
     ]
    }
   ],
   "source": [
    "plt.plot(cost_history)"
   ]
  },
  {
   "cell_type": "code",
   "execution_count": null,
   "metadata": {},
   "outputs": [
    {
     "ename": "NameError",
     "evalue": "name 'MSE' is not defined",
     "output_type": "error",
     "traceback": [
      "\u001b[1;31m---------------------------------------------------------------------------\u001b[0m",
      "\u001b[1;31mNameError\u001b[0m                                 Traceback (most recent call last)",
      "Cell \u001b[1;32mIn[6], line 12\u001b[0m\n\u001b[0;32m     10\u001b[0m         \u001b[38;5;28;01mfor\u001b[39;00m k, w2 \u001b[38;5;129;01min\u001b[39;00m \u001b[38;5;28menumerate\u001b[39m(w2_range):\n\u001b[0;32m     11\u001b[0m             weights \u001b[38;5;241m=\u001b[39m np\u001b[38;5;241m.\u001b[39marray([w0, w1, w2])  \u001b[38;5;66;03m# وزن‌ها\u001b[39;00m\n\u001b[1;32m---> 12\u001b[0m             cost_matrix[i, j, k] \u001b[38;5;241m=\u001b[39m \u001b[43mMSE\u001b[49m(X_poly, y, weights)\n\u001b[0;32m     14\u001b[0m \u001b[38;5;66;03m# 6. ترسیم تابع هزینه به صورت سه‌بعدی با رنگ\u001b[39;00m\n\u001b[0;32m     15\u001b[0m fig \u001b[38;5;241m=\u001b[39m plt\u001b[38;5;241m.\u001b[39mfigure(figsize\u001b[38;5;241m=\u001b[39m(\u001b[38;5;241m12\u001b[39m, \u001b[38;5;241m8\u001b[39m))\n",
      "\u001b[1;31mNameError\u001b[0m: name 'MSE' is not defined"
     ]
    }
   ],
   "source": [
    "w0_range = np.linspace(-400, 400, 50)\n",
    "w1_range = np.linspace(-200, 200, 50)\n",
    "w2_range = np.linspace(-100, 100, 50)  # وزن برای X^2\n",
    "\n",
    "# 5. محاسبه تابع هزینه برای هر ترکیب وزن\n",
    "cost_matrix = np.zeros((len(w0_range), len(w1_range), len(w2_range)))\n",
    "\n",
    "for i, w0 in enumerate(w0_range):\n",
    "    for j, w1 in enumerate(w1_range):\n",
    "        for k, w2 in enumerate(w2_range):\n",
    "            weights = np.array([w0, w1, w2])  # وزن‌ها\n",
    "            cost_matrix[i, j, k] = MSE(X_poly, y, weights)\n",
    "\n",
    "# 6. ترسیم تابع هزینه به صورت سه‌بعدی با رنگ\n",
    "fig = plt.figure(figsize=(12, 8))\n",
    "ax = fig.add_subplot(111, projection='3d')\n",
    "\n",
    "# انتخاب یک بعد (مثلاً w2 ثابت باشد) برای رسم\n",
    "w2_fixed = 0  # مقدار ثابت برای w2\n",
    "cost_matrix_fixed = cost_matrix[:, :, np.argmin(np.abs(w2_range - w2_fixed))]  # انتخاب صفحه ای که w2 ثابت است\n",
    "\n",
    "W0, W1 = np.meshgrid(w0_range, w1_range)\n",
    "\n",
    "# ترسیم\n",
    "ax.plot_surface(W0, W1, cost_matrix_fixed.T, cmap='viridis', edgecolor='none')\n",
    "\n",
    "# 7. تنظیمات گراف\n",
    "ax.set_xlabel('Weight w0')\n",
    "ax.set_ylabel('Weight w1')\n",
    "ax.set_zlabel('Mean Squared Error (MSE)')\n",
    "ax.set_title(f'3D Surface Plot of MSE (w2 fixed at {w2_fixed})')\n",
    "\n",
    "plt.show()"
   ]
  },
  {
   "cell_type": "code",
   "execution_count": null,
   "metadata": {},
   "outputs": [],
   "source": []
  }
 ],
 "metadata": {
  "kernelspec": {
   "display_name": "Python 3",
   "language": "python",
   "name": "python3"
  },
  "language_info": {
   "codemirror_mode": {
    "name": "ipython",
    "version": 3
   },
   "file_extension": ".py",
   "mimetype": "text/x-python",
   "name": "python",
   "nbconvert_exporter": "python",
   "pygments_lexer": "ipython3",
   "version": "3.12.4"
  }
 },
 "nbformat": 4,
 "nbformat_minor": 2
}
