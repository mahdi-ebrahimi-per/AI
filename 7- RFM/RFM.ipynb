{
 "cells": [
  {
   "cell_type": "markdown",
   "metadata": {},
   "source": [
    "# RFM\n",
    "\n",
    "[![Open In Colab](https://colab.research.google.com/assets/colab-badge.svg)](https://colab.research.google.com/github/mahdi-ebrahimi-per/AI/tree/main/7-%20RFM/RFM%20on%20real%20data%20set)\n"
   ]
  },
  {
   "cell_type": "markdown",
   "metadata": {},
   "source": [
    "### Import Packages "
   ]
  },
  {
   "cell_type": "code",
   "execution_count": 256,
   "metadata": {},
   "outputs": [],
   "source": [
    "import numpy as np\n",
    "import pandas as pd\n",
    "from prettytable import PrettyTable\n",
    "import matplotlib.pyplot as plt\n",
    "\n",
    "from sklearn.cluster import KMeans\n",
    "from sklearn.preprocessing import scale\n",
    "\n",
    "import seaborn as sns\n",
    "\n"
   ]
  },
  {
   "cell_type": "markdown",
   "metadata": {},
   "source": [
    "### Load Data"
   ]
  },
  {
   "cell_type": "code",
   "execution_count": 115,
   "metadata": {},
   "outputs": [
    {
     "data": {
      "text/html": [
       "<div>\n",
       "<style scoped>\n",
       "    .dataframe tbody tr th:only-of-type {\n",
       "        vertical-align: middle;\n",
       "    }\n",
       "\n",
       "    .dataframe tbody tr th {\n",
       "        vertical-align: top;\n",
       "    }\n",
       "\n",
       "    .dataframe thead th {\n",
       "        text-align: right;\n",
       "    }\n",
       "</style>\n",
       "<table border=\"1\" class=\"dataframe\">\n",
       "  <thead>\n",
       "    <tr style=\"text-align: right;\">\n",
       "      <th></th>\n",
       "      <th>ReportID</th>\n",
       "      <th>SalesPersonID</th>\n",
       "      <th>ProductID</th>\n",
       "      <th>Quantity</th>\n",
       "      <th>TotalSalesValue</th>\n",
       "    </tr>\n",
       "  </thead>\n",
       "  <tbody>\n",
       "    <tr>\n",
       "      <th>0</th>\n",
       "      <td>Rep10101</td>\n",
       "      <td>C21116</td>\n",
       "      <td>PR6112</td>\n",
       "      <td>182</td>\n",
       "      <td>1665</td>\n",
       "    </tr>\n",
       "    <tr>\n",
       "      <th>1</th>\n",
       "      <td>Rep10102</td>\n",
       "      <td>C21116</td>\n",
       "      <td>PR6112</td>\n",
       "      <td>182</td>\n",
       "      <td>1740</td>\n",
       "    </tr>\n",
       "    <tr>\n",
       "      <th>2</th>\n",
       "      <td>Rep10103</td>\n",
       "      <td>C21116</td>\n",
       "      <td>PR6253</td>\n",
       "      <td>101</td>\n",
       "      <td>1040</td>\n",
       "    </tr>\n",
       "    <tr>\n",
       "      <th>3</th>\n",
       "      <td>Rep10104</td>\n",
       "      <td>C21116</td>\n",
       "      <td>PR6253</td>\n",
       "      <td>283</td>\n",
       "      <td>4495</td>\n",
       "    </tr>\n",
       "    <tr>\n",
       "      <th>4</th>\n",
       "      <td>Rep10105</td>\n",
       "      <td>C21116</td>\n",
       "      <td>PR6294</td>\n",
       "      <td>108</td>\n",
       "      <td>1465</td>\n",
       "    </tr>\n",
       "  </tbody>\n",
       "</table>\n",
       "</div>"
      ],
      "text/plain": [
       "   ReportID SalesPersonID ProductID  Quantity  TotalSalesValue\n",
       "0  Rep10101        C21116    PR6112       182             1665\n",
       "1  Rep10102        C21116    PR6112       182             1740\n",
       "2  Rep10103        C21116    PR6253       101             1040\n",
       "3  Rep10104        C21116    PR6253       283             4495\n",
       "4  Rep10105        C21116    PR6294       108             1465"
      ]
     },
     "execution_count": 115,
     "metadata": {},
     "output_type": "execute_result"
    }
   ],
   "source": [
    "DataSet_Path = r\"C:\\Users\\asus\\Desktop\\MAHDI,Central\\Programming\\github\\Repositories\\AI\\7- RFM\\RFM on test data set\\Train.xlsx\"\n",
    "Sales_DataSet = pd.read_excel(DataSet_Path)\n",
    "Sales_DataSet = Sales_DataSet.iloc[:,:5] # ignore 'Suspicious' column\n",
    "Sales_DataSet.head()"
   ]
  },
  {
   "cell_type": "markdown",
   "metadata": {},
   "source": [
    "| SalesPersonID | ClusterSumOfQuantity | ClusterValue | \n",
    "| --- | --- | --- |\n",
    "| C21116 | ? | ? |"
   ]
  },
  {
   "cell_type": "markdown",
   "metadata": {},
   "source": [
    "### Unique Value"
   ]
  },
  {
   "cell_type": "code",
   "execution_count": 116,
   "metadata": {},
   "outputs": [
    {
     "name": "stdout",
     "output_type": "stream",
     "text": [
      "+-----------------+--------------+\n",
      "|     Feature     | Unique Value |\n",
      "+-----------------+--------------+\n",
      "|     ReportID    |    42582     |\n",
      "|  SalesPersonID  |     992      |\n",
      "|    ProductID    |     593      |\n",
      "|     Quantity    |     6493     |\n",
      "| TotalSalesValue |     7665     |\n",
      "+-----------------+--------------+\n"
     ]
    }
   ],
   "source": [
    "unique_counts = PrettyTable()\n",
    "unique_counts.field_names = [\"Feature\", \"Unique Value\"]\n",
    "\n",
    "for column in Sales_DataSet.columns:\n",
    "    count = Sales_DataSet[column].nunique()\n",
    "    unique_counts.add_row([column, count])\n",
    "\n",
    "\n",
    "print(unique_counts)    \n"
   ]
  },
  {
   "cell_type": "markdown",
   "metadata": {},
   "source": [
    "### Sellers per Quantity\n",
    "    - Total number of sales of a particular Seller\n",
    "    - Ranking the Sellers, and show top 10 of them in bar chart"
   ]
  },
  {
   "cell_type": "code",
   "execution_count": 123,
   "metadata": {},
   "outputs": [
    {
     "name": "stdout",
     "output_type": "stream",
     "text": [
      "1829\n"
     ]
    },
    {
     "data": {
      "image/png": "[encoded data removed]",
      "text/plain": [
       "<Figure size 576x396 with 1 Axes>"
      ]
     },
     "metadata": {},
     "output_type": "display_data"
    }
   ],
   "source": [
    "\n",
    "salesPerson_unique = list(Sales_DataSet.SalesPersonID.unique())\n",
    "\n",
    "SalesPersonID_per_Quantity = Sales_DataSet[[\"Quantity\", \"SalesPersonID\"]]\n",
    "\n",
    "\n",
    "QuantitySum_unique_forEachSalesPerson = []\n",
    "for Person in salesPerson_unique:\n",
    "        \n",
    "    ListOfQuantityOfPerson = SalesPersonID_per_Quantity[\"Quantity\"][(SalesPersonID_per_Quantity[\"SalesPersonID\"]==Person)]\n",
    "    \n",
    "    QuantitySum_unique_forEachSalesPerson.append(sum(ListOfQuantityOfPerson))\n",
    "    \n",
    "    \n",
    "    \n",
    "# Total number of sales of a particular Seller\n",
    "SellerID = \"C21116\" \n",
    "UniqueSalesPersonID_per_SumOfQuantity = dict(zip(salesPerson_unique, QuantitySum_unique_forEachSalesPerson))\n",
    "print(UniqueSalesPersonID_per_SumOfQuantity[SellerID])\n",
    "\n",
    "\n",
    "# print(UniqueSalesPersonID_per_SumOfQuantity)\n",
    "\n",
    "# Ranking of Sellers\n",
    "Top10_Sellers = sorted(UniqueSalesPersonID_per_SumOfQuantity.items(), key=lambda user:user[1], reverse=True)[:10]\n",
    "SellersPerQuantity_keys, SellersPerQuantity_values = [ i for i, j in Top10_Sellers], [ j for i, j in Top10_Sellers]\n",
    "\n",
    "# print(SellersPerQuantity_values[:10])\n",
    "\n",
    "fig, ax = plt.subplots()    \n",
    "plt.style.use('Solarize_Light2')\n",
    "width = 0.75 \n",
    "ind = np.arange(len(SellersPerQuantity_values))\n",
    "ax.barh(ind, SellersPerQuantity_values, width, color=\"blue\")\n",
    "ax.set_yticks(ind+width/2)\n",
    "ax.set_yticklabels(SellersPerQuantity_keys, minor=False)\n",
    "plt.title('Sellers per Quantity')\n",
    "plt.xlabel('Quantity (*10^7)')\n",
    "plt.ylabel('Sellers ID')\n",
    "plt.show()\n",
    "\n"
   ]
  },
  {
   "cell_type": "markdown",
   "metadata": {},
   "source": [
    "### Seller per TotalSalesValue"
   ]
  },
  {
   "cell_type": "code",
   "execution_count": 124,
   "metadata": {},
   "outputs": [
    {
     "name": "stdout",
     "output_type": "stream",
     "text": [
      "24080\n"
     ]
    },
    {
     "data": {
      "image/png": "[encoded data removed]",
      "text/plain": [
       "<Figure size 576x396 with 1 Axes>"
      ]
     },
     "metadata": {},
     "output_type": "display_data"
    }
   ],
   "source": [
    "\n",
    "salesPerson_unique = list(Sales_DataSet.SalesPersonID.unique())\n",
    "\n",
    "SalesPersonID_per_TotalSalesValue = Sales_DataSet[[\"TotalSalesValue\", \"SalesPersonID\"]]\n",
    "\n",
    "\n",
    "TotalSalesValueSum_unique_forEachSalesPerson = []\n",
    "for Person in salesPerson_unique:\n",
    "        \n",
    "    ListOfQuantityOfPerson = SalesPersonID_per_TotalSalesValue[\"TotalSalesValue\"][(SalesPersonID_per_TotalSalesValue[\"SalesPersonID\"]==Person)]\n",
    "    \n",
    "    TotalSalesValueSum_unique_forEachSalesPerson.append(sum(ListOfQuantityOfPerson))\n",
    "    \n",
    "    \n",
    "    \n",
    "# Total number of sales of a particular Seller\n",
    "SellerID = \"C21116\" \n",
    "UniqueSalesPersonID_per_SumOfTotalSalesValue = dict(zip(salesPerson_unique, TotalSalesValueSum_unique_forEachSalesPerson))\n",
    "print(UniqueSalesPersonID_per_SumOfTotalSalesValue[SellerID])\n",
    "\n",
    "\n",
    "# print(UniqueSalesPersonID_per_SumOfTotalSalesValue)\n",
    "\n",
    "# Ranking of Sellers\n",
    "Top10_Sellers = sorted(UniqueSalesPersonID_per_SumOfTotalSalesValue.items(), key=lambda user:user[1], reverse=True)[:10]\n",
    "SellersPerTotalSalesValue_keys, SellersPerTotalSalesValue_values = [ i for i, j in Top10_Sellers], [ j for i, j in Top10_Sellers]\n",
    "\n",
    "# print(SellersPerQuantity_values[:10])\n",
    "\n",
    "fig, ax = plt.subplots()    \n",
    "plt.style.use('Solarize_Light2')\n",
    "width = 0.75 \n",
    "ind = np.arange(len(SellersPerTotalSalesValue_values))\n",
    "ax.barh(ind, SellersPerTotalSalesValue_values, width, color=\"red\")\n",
    "ax.set_yticks(ind+width/2)\n",
    "ax.set_yticklabels(SellersPerTotalSalesValue_keys, minor=False)\n",
    "plt.title('Sellers per TotalSalesValue')\n",
    "plt.xlabel('Quantity (*10^7)')\n",
    "plt.ylabel('Sellers ID')\n",
    "plt.show()\n",
    "\n"
   ]
  },
  {
   "cell_type": "markdown",
   "metadata": {},
   "source": [
    "### "
   ]
  },
  {
   "cell_type": "markdown",
   "metadata": {},
   "source": [
    "### Most Popular Products"
   ]
  },
  {
   "cell_type": "code",
   "execution_count": 16,
   "metadata": {},
   "outputs": [
    {
     "data": {
      "image/png": "[encoded data removed]",
      "text/plain": [
       "<Figure size 576x396 with 1 Axes>"
      ]
     },
     "metadata": {},
     "output_type": "display_data"
    }
   ],
   "source": [
    "ProductID_unique = list(Sales_DataSet.ProductID.unique())\n",
    "\n",
    "ProductID_per_Quantity = Sales_DataSet[[\"Quantity\", \"ProductID\"]]\n",
    "\n",
    "\n",
    "QuantitySum_unique_forEachProductID = []\n",
    "for Product in ProductID_unique:\n",
    "        \n",
    "    ListOfQuantityOfProduct = ProductID_per_Quantity[\"Quantity\"][(ProductID_per_Quantity[\"ProductID\"]==Product)]\n",
    "    \n",
    "    QuantitySum_unique_forEachProductID.append(sum(ListOfQuantityOfProduct))\n",
    "        \n",
    "    \n",
    "# Total number of sales of a particular Product\n",
    "ProductID = \"PR6112\" \n",
    "UniqueProduct_per_SumOfQuantity = dict(zip(ProductID_unique, QuantitySum_unique_forEachProductID))\n",
    "# print(UniqueProduct_per_SumOfQuantity[ProductID])\n",
    "\n",
    "\n",
    "\n",
    "# Ranking of Sellers\n",
    "Top10_Product = sorted(UniqueProduct_per_SumOfQuantity.items(), key=lambda product:product[1], reverse=True)[:10]\n",
    "MostPopularProducts_keys, MostPopularProducts_values = [ i for i, j in Top10_Product], [ j for i, j in Top10_Product]\n",
    "\n",
    "fig, ax = plt.subplots()    \n",
    "plt.style.use('Solarize_Light2')\n",
    "width = 0.75 \n",
    "ind = np.arange(len(MostPopularProducts_values))\n",
    "ax.barh(ind, MostPopularProducts_values, width, color=\"y\")\n",
    "ax.set_yticks(ind+width/2)\n",
    "ax.set_yticklabels(MostPopularProducts_keys, minor=False)\n",
    "plt.title('Top 10 Product')\n",
    "plt.xlabel('Quantity (*10^7)')\n",
    "plt.ylabel('Product ID')\n",
    "plt.show()\n",
    "\n"
   ]
  },
  {
   "cell_type": "markdown",
   "metadata": {},
   "source": [
    "### Most Trend Buying Number (NOT COMPLITED)"
   ]
  },
  {
   "cell_type": "code",
   "execution_count": 17,
   "metadata": {},
   "outputs": [
    {
     "data": {
      "image/png": "[encoded data removed]",
      "text/plain": [
       "<Figure size 720x504 with 1 Axes>"
      ]
     },
     "metadata": {},
     "output_type": "display_data"
    }
   ],
   "source": [
    "\n",
    "# y = .8 ** x + np.random.randn(10000) + 25\n",
    "\n",
    "fig, axs = plt.subplots(1, 1,\n",
    "\t\t\t\t\t\tfigsize =(10, 7),\n",
    "\t\t\t\t\t\ttight_layout = True)\n",
    "\n",
    "n_bins = 1\n",
    "axs.hist(Sales_DataSet[\"Quantity\"], bins = n_bins)\n",
    "\n",
    "# Show plot\n",
    "plt.show()\n"
   ]
  },
  {
   "cell_type": "markdown",
   "metadata": {},
   "source": [
    "### Number of product selling by seller"
   ]
  },
  {
   "cell_type": "code",
   "execution_count": 18,
   "metadata": {},
   "outputs": [
    {
     "name": "stdout",
     "output_type": "stream",
     "text": [
      "10\n"
     ]
    },
    {
     "data": {
      "image/png": "[encoded data removed]",
      "text/plain": [
       "<Figure size 576x396 with 1 Axes>"
      ]
     },
     "metadata": {},
     "output_type": "display_data"
    }
   ],
   "source": [
    "salesPerson_unique = list(Sales_DataSet.SalesPersonID.unique())\n",
    "\n",
    "QuantityCount_unique_forEachSalesPerson = []\n",
    "for Person in salesPerson_unique:\n",
    "        \n",
    "    ListOfQuantityCountOfPerson = SalesPersonID_per_Quantity[\"Quantity\"][(SalesPersonID_per_Quantity[\"SalesPersonID\"]==Person)]\n",
    "    \n",
    "    QuantityCount_unique_forEachSalesPerson.append(len(ListOfQuantityCountOfPerson))\n",
    "    \n",
    "\n",
    "# print(QuantityCount_unique_forEachSalesPerson)\n",
    "\n",
    "\n",
    "\n",
    "\n",
    "\n",
    "\n",
    "# Number of product selling by particular seller\n",
    "SellerID = \"C21116\" \n",
    "UniqueSalesPersonID_per_CountOfQuantity = dict(zip(salesPerson_unique, QuantityCount_unique_forEachSalesPerson))\n",
    "print(UniqueSalesPersonID_per_CountOfQuantity[SellerID])\n",
    "\n",
    "\n",
    "\n",
    "\n",
    "# Ranking of Sellers by number of product that saled\n",
    "Top10_Sellers = sorted(UniqueSalesPersonID_per_CountOfQuantity.items(), key=lambda user:user[1], reverse=True)[:10]\n",
    "NumberOfProduct_keys, NumberOfProduct_values = [ i for i, j in Top10_Sellers], [ j for i, j in Top10_Sellers]\n",
    "\n",
    "fig, ax = plt.subplots()    \n",
    "plt.style.use('Solarize_Light2')\n",
    "width = 0.75 \n",
    "ind = np.arange(len(NumberOfProduct_values))\n",
    "ax.barh(ind, NumberOfProduct_values, width, color=\"Green\")\n",
    "ax.set_yticks(ind+width/2)\n",
    "ax.set_yticklabels(NumberOfProduct_keys, minor=False)\n",
    "plt.title('Top 10 Sellers by number of product that saled')\n",
    "plt.xlabel('Number of product')\n",
    "plt.ylabel('Seller ID')\n",
    "plt.show()\n"
   ]
  },
  {
   "cell_type": "markdown",
   "metadata": {},
   "source": [
    "### Clustering and get sellers into group (Per Sum Of Quantity)\n",
    "    - 3 cluster for KMeans and 2 cluster for outlier, 5 cluster in total\n",
    "        - first outliar cluster (4) : x>IQR\n",
    "        - secend outliar cluster (5) : x>IQR+Q3\n",
    "    \n",
    "    - Table of Clustering of each SalesPerson (unique_Clusters_SumOfQuantityPerSalesPersion)"
   ]
  },
  {
   "cell_type": "code",
   "execution_count": 245,
   "metadata": {},
   "outputs": [
    {
     "name": "stdout",
     "output_type": "stream",
     "text": [
      "{'1': 478, '2': 174, '3': 86}\n",
      "Len Cluster 4 : 99\n",
      "Len Cluster 5 : 155\n"
     ]
    }
   ],
   "source": [
    "def getOut_Outliar_Cluster4_Cluster5(Data, ColumnIndex): # output -> ReducedDataSet, Cluster4, CLuster5\n",
    "    Data = pd.DataFrame(Data) if type(Data)==list  else None\n",
    "    Q1 = Data[ColumnIndex].describe()[\"25%\"]\n",
    "    Q3 = Data[ColumnIndex].describe()[\"75%\"]\n",
    "    IQR = Q3 - Q1\n",
    "    \n",
    "    outliers_withIndex_Cluster4 = dict()     \n",
    "    outliers_withIndex_Cluster5 = dict()     \n",
    "    \n",
    "    #Cluster 4\n",
    "    index = 0\n",
    "    for i in Data[ColumnIndex]:\n",
    "        if int(i) > int(68028) and i < 139768:\n",
    "            outliers_withIndex_Cluster4[index] = i\n",
    "                        \n",
    "        index += 1\n",
    "\n",
    "\n",
    "    #Cluster 5\n",
    "    index = 0\n",
    "    for i in Data[ColumnIndex]:\n",
    "        if int(i) > int(139768):\n",
    "            outliers_withIndex_Cluster5[index] = i\n",
    "                        \n",
    "        index += 1\n",
    "    \n",
    "    #ReducedDataSet with out outliar\n",
    "    QuantitySum_unique_forEachSalesPerson_withOutOutliar = Data\n",
    "    Cluster4_outliarIndexes = list(outliers_withIndex_Cluster4.keys())\n",
    "    Cluster5_outliarIndexes = list(outliers_withIndex_Cluster5.keys())\n",
    "    allIndexesOfoutliars = Cluster4_outliarIndexes + Cluster5_outliarIndexes\n",
    "\n",
    "    QuantitySum_unique_forEachSalesPerson_withOutOutliar = np.delete(np.array(QuantitySum_unique_forEachSalesPerson_withOutOutliar), allIndexesOfoutliars)\n",
    "    \n",
    "    return (QuantitySum_unique_forEachSalesPerson_withOutOutliar), outliers_withIndex_Cluster4, outliers_withIndex_Cluster5\n",
    "    \n",
    "    \n",
    "\n",
    "\n",
    "def NumberOfEachLabel(Model_labels) -> dict:\n",
    "    \n",
    "    keys = (\"1\", \"2\", \"3\")\n",
    "    value = 0\n",
    "    \n",
    "    res = dict.fromkeys(keys, value)    \n",
    "    \n",
    "    for i in Model_labels:\n",
    "        if i == 0 : res[\"1\"] += 1\n",
    "        \n",
    "        elif i == 1 :res[\"2\"] += 1\n",
    "        \n",
    "        elif i == 2 :res[\"3\"] += 1\n",
    "    \n",
    "    return res\n",
    "\n",
    "\n",
    "\n",
    "\n",
    "ReducedDataSet, Cluster4, Cluster5 = getOut_Outliar_Cluster4_Cluster5(QuantitySum_unique_forEachSalesPerson, 0)\n",
    "\n",
    "\n",
    "model = KMeans(n_clusters=3, random_state=0)\n",
    "model = model.fit(scale(ReducedDataSet).reshape(-1,1))\n",
    "# print(model.labels_)\n",
    "idx = np.argsort(model.cluster_centers_.sum(axis=1))\n",
    "lut = np.zeros_like(idx)\n",
    "lut[idx] = np.arange(3)\n",
    "\n",
    "\n",
    "print(NumberOfEachLabel(lut[model.labels_])) #1, 2, 3\n",
    "print(f\"Len Cluster 4 : {len(Cluster4)}\") # 4\n",
    "print(f\"Len Cluster 5 : {len(Cluster5)}\") # 5\n",
    "\n",
    "\n",
    "ReducedDataSet = np.array(ReducedDataSet)\n",
    "\n",
    "# Cluster of particular seller\n",
    "def ClusterOfParticularSeller_perQuantity():\n",
    "    dictKeys = salesPerson_unique\n",
    "    dictValues = []\n",
    "    index_balancer = 0\n",
    "    for i in range(992):\n",
    "        if i in list(Cluster4.keys()):\n",
    "            dictValues.append(4)\n",
    "            \n",
    "        elif i in list(Cluster5.keys()):\n",
    "            dictValues.append(5)\n",
    "        \n",
    "        else:\n",
    "            dictValues.append(model.labels_[index_balancer])\n",
    "            index_balancer += 1\n",
    "            \n",
    "    \n",
    "    return dict(zip(dictKeys, dictValues))\n",
    "\n",
    "\n",
    "\n",
    "Clusterd_SalesPersons = ClusterOfParticularSeller_perQuantity()\n",
    "# print( Clusterd_SalesPersons[\"C21167\"] )\n",
    "# print( Clusterd_SalesPersons[salesPerson_unique[16]] )\n",
    "unique_Clusters_SumOfQuantityPerSalesPersion = list(Clusterd_SalesPersons.values())\n",
    "    \n",
    "\n"
   ]
  },
  {
   "cell_type": "markdown",
   "metadata": {},
   "source": [
    "### Clustering and get sellers into group (Per Total Sales Value)\n",
    "    #- 3 cluster for KMeans and 2 cluster for outlier, 5 cluster in total\n",
    "        - first outliar cluster (4) : x>IQR\n",
    "        - secend outliar cluster (5) : x>IQR+(2*Q3)\n",
    "    \n",
    "    #- Table of Clustering of each SalesPerson (unique_Clusters_TotalSalesPerSalesPersion)"
   ]
  },
  {
   "cell_type": "code",
   "execution_count": 249,
   "metadata": {},
   "outputs": [
    {
     "name": "stdout",
     "output_type": "stream",
     "text": [
      "{'1': 395, '2': 204, '3': 127}\n",
      "Len Cluster 4 : 165\n",
      "Len Cluster 5 : 101\n"
     ]
    }
   ],
   "source": [
    "def getOut_Outliar_Cluster4_Cluster5(Data, ColumnIndex): # output -> ReducedDataSet, Cluster4, CLuster5\n",
    "    Data = pd.DataFrame(Data) if type(Data)==list  else None\n",
    "    Q1 = Data[ColumnIndex].describe()[\"25%\"]\n",
    "    Q3 = Data[ColumnIndex].describe()[\"75%\"]\n",
    "    IQR = Q3 - Q1\n",
    "    \n",
    "    outliers_withIndex_Cluster4 = dict()     \n",
    "    outliers_withIndex_Cluster5 = dict()     \n",
    "    \n",
    "    \n",
    "    #Cluster 4\n",
    "    index = 0\n",
    "    for i in Data[ColumnIndex]:\n",
    "        if int(i) > int(IQR) and i < int(IQR+(2*Q3)):\n",
    "            outliers_withIndex_Cluster4[index] = i\n",
    "                        \n",
    "        index += 1\n",
    "\n",
    "\n",
    "    #Cluster 5\n",
    "    index = 0\n",
    "    for i in Data[ColumnIndex]:\n",
    "        if int(i) > int(IQR+(2*Q3)):\n",
    "            outliers_withIndex_Cluster5[index] = i\n",
    "                        \n",
    "        index += 1\n",
    "    \n",
    "    #ReducedDataSet with out outliar\n",
    "    QuantitySum_unique_forEachSalesPerson_withOutOutliar = Data\n",
    "    Cluster4_outliarIndexes = list(outliers_withIndex_Cluster4.keys())\n",
    "    Cluster5_outliarIndexes = list(outliers_withIndex_Cluster5.keys())\n",
    "    allIndexesOfoutliars = Cluster4_outliarIndexes + Cluster5_outliarIndexes\n",
    "\n",
    "    QuantitySum_unique_forEachSalesPerson_withOutOutliar = np.delete(np.array(QuantitySum_unique_forEachSalesPerson_withOutOutliar), allIndexesOfoutliars)\n",
    "    \n",
    "    return (QuantitySum_unique_forEachSalesPerson_withOutOutliar), outliers_withIndex_Cluster4, outliers_withIndex_Cluster5\n",
    "    \n",
    "    \n",
    "\n",
    "\n",
    "def NumberOfEachLabel(Model_labels) -> dict:\n",
    "    \n",
    "    keys = (\"1\", \"2\", \"3\")\n",
    "    value = 0\n",
    "    \n",
    "    res = dict.fromkeys(keys, value)    \n",
    "    for i in Model_labels:\n",
    "        if i == 0 : res[\"1\"] += 1\n",
    "        \n",
    "        elif i == 1 :res[\"2\"] += 1\n",
    "        \n",
    "        elif i == 2 :res[\"3\"] += 1\n",
    "    \n",
    "    return res\n",
    "\n",
    "\n",
    "\n",
    "ReducedDataSet, Cluster4, Cluster5 = getOut_Outliar_Cluster4_Cluster5(TotalSalesValueSum_unique_forEachSalesPerson, 0)\n",
    "\n",
    "\n",
    "model = KMeans(n_clusters=3, random_state=0)\n",
    "model = model.fit(scale(ReducedDataSet).reshape(-1,1))\n",
    "# print(model.labels_)\n",
    "idx = np.argsort(model.cluster_centers_.sum(axis=1))\n",
    "lut = np.zeros_like(idx)\n",
    "lut[idx] = np.arange(3)\n",
    "\n",
    "\n",
    "print(NumberOfEachLabel(lut[model.labels_])) #1, 2, 3\n",
    "print(f\"Len Cluster 4 : {len(Cluster4)}\") # 4\n",
    "print(f\"Len Cluster 5 : {len(Cluster5)}\") # 5\n",
    "\n",
    "\n",
    "ReducedDataSet = np.array(ReducedDataSet)\n",
    "\n",
    "# Cluster of particular seller\n",
    "def ClusterOfParticularSeller_perQuantity():\n",
    "    dictKeys = salesPerson_unique\n",
    "    dictValues = []\n",
    "    index_balancer = 0\n",
    "    for i in range(992):\n",
    "        if i in list(Cluster4.keys()):\n",
    "            dictValues.append(4)\n",
    "            \n",
    "        elif i in list(Cluster5.keys()):\n",
    "            dictValues.append(5)\n",
    "        \n",
    "        else:\n",
    "            dictValues.append(model.labels_[index_balancer])\n",
    "            index_balancer += 1\n",
    "            \n",
    "    \n",
    "    return dict(zip(dictKeys, dictValues))\n",
    "\n",
    "\n",
    "\n",
    "Clusterd_SalesPersons = ClusterOfParticularSeller_perQuantity()\n",
    "# print( Clusterd_SalesPersons[\"C21167\"] )\n",
    "# print( Clusterd_SalesPersons[salesPerson_unique[16]] )\n",
    "unique_Clusters_TotalSalesPerSalesPersion = list(Clusterd_SalesPersons.values())\n",
    "\n",
    "\n",
    "\\\n",
    "\n",
    "\n"
   ]
  },
  {
   "cell_type": "code",
   "execution_count": null,
   "metadata": {},
   "outputs": [],
   "source": []
  },
  {
   "cell_type": "markdown",
   "metadata": {},
   "source": [
    "### Make Table of Clustering per SalesPersons"
   ]
  },
  {
   "cell_type": "code",
   "execution_count": 255,
   "metadata": {},
   "outputs": [
    {
     "name": "stdout",
     "output_type": "stream",
     "text": [
      "[['C21116' '0' '0']\n",
      " ['C21918' '0' '0']\n",
      " ['C22276' '2' '1']\n",
      " ...\n",
      " ['C22001' '1' '2']\n",
      " ['C21625' '5' '5']\n",
      " ['C22284' '5' '4']]\n"
     ]
    }
   ],
   "source": [
    "salesPerson_unique = np.array(salesPerson_unique)\n",
    "unique_Clusters_TotalSalesPerSalesPersion = np.array(unique_Clusters_TotalSalesPerSalesPersion)\n",
    "unique_Clusters_SumOfQuantityPerSalesPersion = np.array(unique_Clusters_SumOfQuantityPerSalesPersion)\n",
    "\n",
    "Table = np.c_[salesPerson_unique, unique_Clusters_SumOfQuantityPerSalesPersion, unique_Clusters_TotalSalesPerSalesPersion]\n",
    "print(Table)\n"
   ]
  },
  {
   "cell_type": "code",
   "execution_count": 280,
   "metadata": {},
   "outputs": [
    {
     "data": {
      "text/html": [
       "<style  type=\"text/css\" >\n",
       "#T_475fa_row0_col0,#T_475fa_row0_col2,#T_475fa_row2_col1{\n",
       "            background-color:  #fde725;\n",
       "            color:  #000000;\n",
       "            font-size:  100px;\n",
       "        }#T_475fa_row0_col1,#T_475fa_row1_col0,#T_475fa_row1_col2{\n",
       "            background-color:  #440154;\n",
       "            color:  #f1f1f1;\n",
       "            font-size:  100px;\n",
       "        }#T_475fa_row1_col1{\n",
       "            background-color:  #35b779;\n",
       "            color:  #000000;\n",
       "            font-size:  100px;\n",
       "        }#T_475fa_row2_col0{\n",
       "            background-color:  #481f70;\n",
       "            color:  #f1f1f1;\n",
       "            font-size:  100px;\n",
       "        }#T_475fa_row2_col2{\n",
       "            background-color:  #1e9b8a;\n",
       "            color:  #000000;\n",
       "            font-size:  100px;\n",
       "        }</style><table id=\"T_475fa_\" ><thead>    <tr>        <th class=\"blank level0\" ></th>        <th class=\"col_heading level0 col0\" >0</th>        <th class=\"col_heading level0 col1\" >1</th>        <th class=\"col_heading level0 col2\" >2</th>    </tr></thead><tbody>\n",
       "                <tr>\n",
       "                        <th id=\"T_475fa_level0_row0\" class=\"row_heading level0 row0\" >0</th>\n",
       "                        <td id=\"T_475fa_row0_col0\" class=\"data row0 col0\" >348</td>\n",
       "                        <td id=\"T_475fa_row0_col1\" class=\"data row0 col1\" >25</td>\n",
       "                        <td id=\"T_475fa_row0_col2\" class=\"data row0 col2\" >100</td>\n",
       "            </tr>\n",
       "            <tr>\n",
       "                        <th id=\"T_475fa_level0_row1\" class=\"row_heading level0 row1\" >1</th>\n",
       "                        <td id=\"T_475fa_row1_col0\" class=\"data row1 col0\" >5</td>\n",
       "                        <td id=\"T_475fa_row1_col1\" class=\"data row1 col1\" >31</td>\n",
       "                        <td id=\"T_475fa_row1_col2\" class=\"data row1 col2\" >25</td>\n",
       "            </tr>\n",
       "            <tr>\n",
       "                        <th id=\"T_475fa_level0_row2\" class=\"row_heading level0 row2\" >2</th>\n",
       "                        <td id=\"T_475fa_row2_col0\" class=\"data row2 col0\" >34</td>\n",
       "                        <td id=\"T_475fa_row2_col1\" class=\"data row2 col1\" >34</td>\n",
       "                        <td id=\"T_475fa_row2_col2\" class=\"data row2 col2\" >66</td>\n",
       "            </tr>\n",
       "    </tbody></table>"
      ],
      "text/plain": [
       "<pandas.io.formats.style.Styler at 0x1de1f762f70>"
      ]
     },
     "execution_count": 280,
     "metadata": {},
     "output_type": "execute_result"
    }
   ],
   "source": [
    "\n",
    "Index= ['0', '1', '2']\n",
    "Cols = ['0', '1', '2']\n",
    "\n",
    "row0 = [0, 0, 0]\n",
    "row1 = [0, 0, 0]\n",
    "row2 = [0, 0, 0]\n",
    "\n",
    "\n",
    "for saler in Table:\n",
    "    if int(saler[1]) == 0 and int(saler[2]) == 0:\n",
    "        row0[0] += 1\n",
    "    \n",
    "    elif int(saler[1]) == 0 and int(saler[2]) == 1:\n",
    "        row0[1] += 1\n",
    "    \n",
    "    elif int(saler[1]) == 0 and int(saler[2]) == 2:\n",
    "        row0[2] += 1\n",
    "    \n",
    "    \n",
    "\n",
    "    elif int(saler[1]) == 1 and int(saler[2]) == 0:\n",
    "        row1[0] += 1\n",
    "    \n",
    "    elif int(saler[1]) == 1 and int(saler[2]) == 1:\n",
    "        row1[1] += 1\n",
    "    \n",
    "    elif int(saler[1]) == 1 and int(saler[2]) == 2:\n",
    "        row1[2] += 1\n",
    "        \n",
    "        \n",
    "    \n",
    "    elif int(saler[1]) == 2 and int(saler[2]) == 0:\n",
    "        row2[0] += 1\n",
    "    \n",
    "    elif int(saler[1]) == 2 and int(saler[2]) == 1:\n",
    "        row2[1] += 1\n",
    "    \n",
    "    elif int(saler[1]) == 2 and int(saler[2]) == 2:\n",
    "        row2[2] += 1\n",
    "\n",
    "\n",
    "df = pd.DataFrame([ row0, row1, row2 ], index=Index, columns=Cols)\n",
    "\n",
    "# df = pd.DataFrame(tb , index=Index, columns=Cols)\n",
    "df.style.background_gradient(cmap ='viridis')\\\n",
    "        .set_properties(**{'font-size': '100px'})"
   ]
  },
  {
   "cell_type": "markdown",
   "metadata": {},
   "source": []
  }
 ],
 "metadata": {
  "kernelspec": {
   "display_name": "Python 3.9.2 64-bit",
   "language": "python",
   "name": "python3"
  },
  "language_info": {
   "codemirror_mode": {
    "name": "ipython",
    "version": 3
   },
   "file_extension": ".py",
   "mimetype": "text/x-python",
   "name": "python",
   "nbconvert_exporter": "python",
   "pygments_lexer": "ipython3",
   "version": "3.9.2"
  },
  "orig_nbformat": 4,
  "vscode": {
   "interpreter": {
    "hash": "b667cebad148e7b094a58ee81f940c685de1dd70a003a9ccdca4a5792431bee5"
   }
  }
 },
 "nbformat": 4,
 "nbformat_minor": 2
}
