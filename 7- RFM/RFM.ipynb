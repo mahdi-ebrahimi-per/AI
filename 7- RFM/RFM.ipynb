{
 "cells": [
  {
   "cell_type": "markdown",
   "metadata": {},
   "source": [
    "### Import Packages "
   ]
  },
  {
   "cell_type": "code",
   "execution_count": 145,
   "metadata": {},
   "outputs": [],
   "source": [
    "import numpy as np\n",
    "import pandas as pd\n",
    "from prettytable import PrettyTable\n",
    "import matplotlib.pyplot as plt\n",
    "\n",
    "from matplotlib import colors\n",
    "from matplotlib.ticker import PercentFormatter"
   ]
  },
  {
   "cell_type": "markdown",
   "metadata": {},
   "source": [
    "### Load Data"
   ]
  },
  {
   "cell_type": "code",
   "execution_count": 33,
   "metadata": {},
   "outputs": [
    {
     "data": {
      "text/html": [
       "<div>\n",
       "<style scoped>\n",
       "    .dataframe tbody tr th:only-of-type {\n",
       "        vertical-align: middle;\n",
       "    }\n",
       "\n",
       "    .dataframe tbody tr th {\n",
       "        vertical-align: top;\n",
       "    }\n",
       "\n",
       "    .dataframe thead th {\n",
       "        text-align: right;\n",
       "    }\n",
       "</style>\n",
       "<table border=\"1\" class=\"dataframe\">\n",
       "  <thead>\n",
       "    <tr style=\"text-align: right;\">\n",
       "      <th></th>\n",
       "      <th>ReportID</th>\n",
       "      <th>SalesPersonID</th>\n",
       "      <th>ProductID</th>\n",
       "      <th>Quantity</th>\n",
       "      <th>TotalSalesValue</th>\n",
       "    </tr>\n",
       "  </thead>\n",
       "  <tbody>\n",
       "    <tr>\n",
       "      <th>0</th>\n",
       "      <td>Rep10101</td>\n",
       "      <td>C21116</td>\n",
       "      <td>PR6112</td>\n",
       "      <td>182</td>\n",
       "      <td>1665</td>\n",
       "    </tr>\n",
       "    <tr>\n",
       "      <th>1</th>\n",
       "      <td>Rep10102</td>\n",
       "      <td>C21116</td>\n",
       "      <td>PR6112</td>\n",
       "      <td>182</td>\n",
       "      <td>1740</td>\n",
       "    </tr>\n",
       "    <tr>\n",
       "      <th>2</th>\n",
       "      <td>Rep10103</td>\n",
       "      <td>C21116</td>\n",
       "      <td>PR6253</td>\n",
       "      <td>101</td>\n",
       "      <td>1040</td>\n",
       "    </tr>\n",
       "    <tr>\n",
       "      <th>3</th>\n",
       "      <td>Rep10104</td>\n",
       "      <td>C21116</td>\n",
       "      <td>PR6253</td>\n",
       "      <td>283</td>\n",
       "      <td>4495</td>\n",
       "    </tr>\n",
       "    <tr>\n",
       "      <th>4</th>\n",
       "      <td>Rep10105</td>\n",
       "      <td>C21116</td>\n",
       "      <td>PR6294</td>\n",
       "      <td>108</td>\n",
       "      <td>1465</td>\n",
       "    </tr>\n",
       "  </tbody>\n",
       "</table>\n",
       "</div>"
      ],
      "text/plain": [
       "   ReportID SalesPersonID ProductID  Quantity  TotalSalesValue\n",
       "0  Rep10101        C21116    PR6112       182             1665\n",
       "1  Rep10102        C21116    PR6112       182             1740\n",
       "2  Rep10103        C21116    PR6253       101             1040\n",
       "3  Rep10104        C21116    PR6253       283             4495\n",
       "4  Rep10105        C21116    PR6294       108             1465"
      ]
     },
     "execution_count": 33,
     "metadata": {},
     "output_type": "execute_result"
    }
   ],
   "source": [
    "DataSet_Path = r\"C:\\Users\\asus\\Desktop\\MAHDI,Central\\Programming\\github\\Repositories\\AI\\7- RFM\\Train.xlsx\"\n",
    "Sales_DataSet = pd.read_excel(DataSet_Path)\n",
    "Sales_DataSet = Sales_DataSet.iloc[:,:5] # ignore 'Suspicious' column\n",
    "Sales_DataSet.head()"
   ]
  },
  {
   "cell_type": "markdown",
   "metadata": {},
   "source": [
    "### Unique Value"
   ]
  },
  {
   "cell_type": "code",
   "execution_count": 69,
   "metadata": {},
   "outputs": [
    {
     "name": "stdout",
     "output_type": "stream",
     "text": [
      "+-----------------+--------------+\n",
      "|     Feature     | Unique Value |\n",
      "+-----------------+--------------+\n",
      "|     ReportID    |    42582     |\n",
      "|  SalesPersonID  |     992      |\n",
      "|    ProductID    |     593      |\n",
      "|     Quantity    |     6493     |\n",
      "| TotalSalesValue |     7665     |\n",
      "+-----------------+--------------+\n"
     ]
    }
   ],
   "source": [
    "unique_counts = PrettyTable()\n",
    "unique_counts.field_names = [\"Feature\", \"Unique Value\"]\n",
    "\n",
    "for column in Sales_DataSet.columns:\n",
    "    count = Sales_DataSet[column].nunique()\n",
    "    unique_counts.add_row([column, count])\n",
    "\n",
    "\n",
    "print(unique_counts)    \n"
   ]
  },
  {
   "cell_type": "markdown",
   "metadata": {},
   "source": [
    "### Sellers per Quantity\n",
    "    - Total number of sales of a particular Seller\n",
    "    - Ranking the Sellers, and show top 10 of them in bar chart"
   ]
  },
  {
   "cell_type": "code",
   "execution_count": 139,
   "metadata": {},
   "outputs": [
    {
     "name": "stdout",
     "output_type": "stream",
     "text": [
      "[24060951, 20897797, 11943852, 7731866, 7357299, 5711293, 5525254, 4628186, 4260588, 4161173]\n"
     ]
    },
    {
     "data": {
      "image/png": "[encoded data removed]",
      "text/plain": [
       "<Figure size 576x396 with 1 Axes>"
      ]
     },
     "metadata": {},
     "output_type": "display_data"
    }
   ],
   "source": [
    "\n",
    "salesPerson_unique = list(Sales_DataSet.SalesPersonID.unique())\n",
    "\n",
    "SalesPersonID_per_Quantity = Sales_DataSet[[\"Quantity\", \"SalesPersonID\"]]\n",
    "\n",
    "\n",
    "QuantitySum_unique_forEachSalesPerson = []\n",
    "for Person in salesPerson_unique:\n",
    "        \n",
    "    ListOfQuantityOfPerson = SalesPersonID_per_Quantity[\"Quantity\"][(SalesPersonID_per_Quantity[\"SalesPersonID\"]==Person)]\n",
    "    \n",
    "    QuantitySum_unique_forEachSalesPerson.append(sum(ListOfQuantityOfPerson))\n",
    "    \n",
    "    \n",
    "    \n",
    "# Total number of sales of a particular Seller\n",
    "SellerID = \"C21636\" \n",
    "UniqueSalesPersonID_per_SumOfQuantity = dict(zip(salesPerson_unique, QuantitySum_unique_forEachSalesPerson))\n",
    "print(UniqueSalesPersonID_per_SumOfQuantity[SellerID])\n",
    "\n",
    "\n",
    "\n",
    "\n",
    "# Ranking of Sellers\n",
    "Top10_Sellers = sorted(UniqueSalesPersonID_per_SumOfQuantity.items(), key=lambda user:user[1], reverse=True)[:10]\n",
    "keys, values = [ i for i, j in Top10_Sellers], [ j for i, j in Top10_Sellers]\n",
    "\n",
    "fig, ax = plt.subplots()    \n",
    "plt.style.use('seaborn')\n",
    "width = 0.75 \n",
    "ind = np.arange(len(values))\n",
    "ax.barh(ind, values, width, color=\"blue\")\n",
    "ax.set_yticks(ind+width/2)\n",
    "ax.set_yticklabels(keys, minor=False)\n",
    "plt.title('Top 10 Sellers')\n",
    "plt.xlabel('Quantity (*10^7)')\n",
    "plt.ylabel('Sellers ID')\n",
    "plt.show()\n",
    "\n"
   ]
  },
  {
   "cell_type": "markdown",
   "metadata": {},
   "source": [
    "### "
   ]
  },
  {
   "cell_type": "markdown",
   "metadata": {},
   "source": [
    "### Most Popular Products"
   ]
  },
  {
   "cell_type": "code",
   "execution_count": 156,
   "metadata": {},
   "outputs": [
    {
     "data": {
      "image/png": "[encoded data removed]",
      "text/plain": [
       "<Figure size 576x396 with 1 Axes>"
      ]
     },
     "metadata": {},
     "output_type": "display_data"
    }
   ],
   "source": [
    "ProductID_unique = list(Sales_DataSet.ProductID.unique())\n",
    "\n",
    "ProductID_per_Quantity = Sales_DataSet[[\"Quantity\", \"ProductID\"]]\n",
    "\n",
    "\n",
    "QuantitySum_unique_forEachProductID = []\n",
    "for Product in ProductID_unique:\n",
    "        \n",
    "    ListOfQuantityOfProduct = ProductID_per_Quantity[\"Quantity\"][(ProductID_per_Quantity[\"ProductID\"]==Product)]\n",
    "    \n",
    "    QuantitySum_unique_forEachProductID.append(sum(ListOfQuantityOfProduct))\n",
    "        \n",
    "    \n",
    "# Total number of sales of a particular Product\n",
    "ProductID = \"PR6112\" \n",
    "UniqueProduct_per_SumOfQuantity = dict(zip(ProductID_unique, QuantitySum_unique_forEachProductID))\n",
    "# print(UniqueProduct_per_SumOfQuantity[ProductID])\n",
    "\n",
    "\n",
    "\n",
    "# Ranking of Sellers\n",
    "Top10_Product = sorted(UniqueProduct_per_SumOfQuantity.items(), key=lambda product:product[1], reverse=True)[:10]\n",
    "keys, values = [ i for i, j in Top10_Product], [ j for i, j in Top10_Product]\n",
    "\n",
    "fig, ax = plt.subplots()    \n",
    "plt.style.use('seaborn')\n",
    "width = 0.75 \n",
    "ind = np.arange(len(values))\n",
    "ax.barh(ind, values, width, color=\"y\")\n",
    "ax.set_yticks(ind+width/2)\n",
    "ax.set_yticklabels(keys, minor=False)\n",
    "plt.title('Top 10 Product')\n",
    "plt.xlabel('Quantity (*10^7)')\n",
    "plt.ylabel('Product ID')\n",
    "plt.show()\n",
    "\n"
   ]
  },
  {
   "cell_type": "markdown",
   "metadata": {},
   "source": [
    "### Most Trend Buying Number (NOT COMPLITED)"
   ]
  },
  {
   "cell_type": "code",
   "execution_count": 147,
   "metadata": {},
   "outputs": [
    {
     "data": {
      "image/png": "[encoded data removed]",
      "text/plain": [
       "<Figure size 720x504 with 1 Axes>"
      ]
     },
     "metadata": {},
     "output_type": "display_data"
    }
   ],
   "source": [
    "\n",
    "# y = .8 ** x + np.random.randn(10000) + 25\n",
    "\n",
    "fig, axs = plt.subplots(1, 1,\n",
    "\t\t\t\t\t\tfigsize =(10, 7),\n",
    "\t\t\t\t\t\ttight_layout = True)\n",
    "\n",
    "n_bins = 1\n",
    "axs.hist(Sales_DataSet[\"Quantity\"], bins = n_bins)\n",
    "\n",
    "# Show plot\n",
    "plt.show()\n"
   ]
  },
  {
   "cell_type": "markdown",
   "metadata": {},
   "source": [
    "### Number of product selling by seller"
   ]
  },
  {
   "cell_type": "code",
   "execution_count": 153,
   "metadata": {},
   "outputs": [
    {
     "name": "stdout",
     "output_type": "stream",
     "text": [
      "10\n"
     ]
    },
    {
     "data": {
      "image/png": "[encoded data removed]",
      "text/plain": [
       "<Figure size 576x396 with 1 Axes>"
      ]
     },
     "metadata": {},
     "output_type": "display_data"
    }
   ],
   "source": [
    "salesPerson_unique = list(Sales_DataSet.SalesPersonID.unique())\n",
    "\n",
    "QuantityCount_unique_forEachSalesPerson = []\n",
    "for Person in salesPerson_unique:\n",
    "        \n",
    "    ListOfQuantityCountOfPerson = SalesPersonID_per_Quantity[\"Quantity\"][(SalesPersonID_per_Quantity[\"SalesPersonID\"]==Person)]\n",
    "    \n",
    "    QuantityCount_unique_forEachSalesPerson.append(len(ListOfQuantityCountOfPerson))\n",
    "    \n",
    "\n",
    "# print(QuantityCount_unique_forEachSalesPerson)\n",
    "\n",
    "\n",
    "\n",
    "\n",
    "\n",
    "\n",
    "# Number of product selling by particular seller\n",
    "SellerID = \"C21116\" \n",
    "UniqueSalesPersonID_per_CountOfQuantity = dict(zip(salesPerson_unique, QuantityCount_unique_forEachSalesPerson))\n",
    "print(UniqueSalesPersonID_per_CountOfQuantity[SellerID])\n",
    "\n",
    "\n",
    "\n",
    "\n",
    "# Ranking of Sellers by number of product that saled\n",
    "Top10_Sellers = sorted(UniqueSalesPersonID_per_CountOfQuantity.items(), key=lambda user:user[1], reverse=True)[:10]\n",
    "keys, values = [ i for i, j in Top10_Sellers], [ j for i, j in Top10_Sellers]\n",
    "\n",
    "fig, ax = plt.subplots()    \n",
    "plt.style.use('seaborn')\n",
    "width = 0.75 \n",
    "ind = np.arange(len(values))\n",
    "ax.barh(ind, values, width, color=\"Green\")\n",
    "ax.set_yticks(ind+width/2)\n",
    "ax.set_yticklabels(keys, minor=False)\n",
    "plt.title('Top 10 Sellers by number of product that saled')\n",
    "plt.xlabel('Number of product')\n",
    "plt.ylabel('Seller ID')\n",
    "plt.show()\n"
   ]
  },
  {
   "cell_type": "code",
   "execution_count": null,
   "metadata": {},
   "outputs": [],
   "source": []
  }
 ],
 "metadata": {
  "kernelspec": {
   "display_name": "Python 3.9.2 64-bit",
   "language": "python",
   "name": "python3"
  },
  "language_info": {
   "codemirror_mode": {
    "name": "ipython",
    "version": 3
   },
   "file_extension": ".py",
   "mimetype": "text/x-python",
   "name": "python",
   "nbconvert_exporter": "python",
   "pygments_lexer": "ipython3",
   "version": "3.9.2"
  },
  "orig_nbformat": 4,
  "vscode": {
   "interpreter": {
    "hash": "b667cebad148e7b094a58ee81f940c685de1dd70a003a9ccdca4a5792431bee5"
   }
  }
 },
 "nbformat": 4,
 "nbformat_minor": 2
}
