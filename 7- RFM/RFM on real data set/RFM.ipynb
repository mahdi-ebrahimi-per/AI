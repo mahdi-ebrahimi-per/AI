{
 "cells": [
  {
   "cell_type": "markdown",
   "metadata": {},
   "source": [
    "# RFM\n",
    "\n",
    "[![Open In Colab](https://colab.research.google.com/assets/colab-badge.svg)](https://colab.research.google.com/github/mahdi-ebrahimi-per/AI/blob/main/7-%20RFM/RFM%20on%20test%20data%20set/RFM.ipynb)\n",
    "\n"
   ]
  },
  {
   "cell_type": "markdown",
   "metadata": {},
   "source": [
    "### Load Packages"
   ]
  },
  {
   "cell_type": "code",
   "execution_count": 254,
   "metadata": {},
   "outputs": [],
   "source": [
    "import numpy as np\n",
    "import pandas as pd\n",
    "from prettytable import PrettyTable\n",
    "import matplotlib.pyplot as plt\n",
    "\n",
    "from sklearn.cluster import KMeans\n",
    "from sklearn.preprocessing import scale\n",
    "\n",
    "import seaborn as sns\n"
   ]
  },
  {
   "cell_type": "markdown",
   "metadata": {},
   "source": [
    "### Load Data"
   ]
  },
  {
   "cell_type": "code",
   "execution_count": 255,
   "metadata": {},
   "outputs": [
    {
     "data": {
      "text/html": [
       "<div>\n",
       "<style scoped>\n",
       "    .dataframe tbody tr th:only-of-type {\n",
       "        vertical-align: middle;\n",
       "    }\n",
       "\n",
       "    .dataframe tbody tr th {\n",
       "        vertical-align: top;\n",
       "    }\n",
       "\n",
       "    .dataframe thead th {\n",
       "        text-align: right;\n",
       "    }\n",
       "</style>\n",
       "<table border=\"1\" class=\"dataframe\">\n",
       "  <thead>\n",
       "    <tr style=\"text-align: right;\">\n",
       "      <th></th>\n",
       "      <th>Terminal</th>\n",
       "      <th>NATIONALCODE</th>\n",
       "      <th>RECENCY</th>\n",
       "      <th>Frequency</th>\n",
       "      <th>Monetary</th>\n",
       "      <th>CATEGORYCODE</th>\n",
       "      <th>CATEGORY_NAME</th>\n",
       "      <th>PROVINCENAME</th>\n",
       "      <th>PROVINCECODE</th>\n",
       "      <th>CITYNAME</th>\n",
       "      <th>CITYCODE</th>\n",
       "      <th>PROJECTNAME</th>\n",
       "      <th>PROJECTCODE</th>\n",
       "      <th>AGENTNAME</th>\n",
       "      <th>AGENTCODE</th>\n",
       "      <th>TERMINALSTATUS</th>\n",
       "      <th>POSBRAND</th>\n",
       "      <th>POSMODEL</th>\n",
       "      <th>POSTYPE</th>\n",
       "    </tr>\n",
       "  </thead>\n",
       "  <tbody>\n",
       "    <tr>\n",
       "      <th>0</th>\n",
       "      <td>7190521.0</td>\n",
       "      <td>117074761.0</td>\n",
       "      <td>47.0</td>\n",
       "      <td>3986.0</td>\n",
       "      <td>474325723.0</td>\n",
       "      <td>7623.0</td>\n",
       "      <td>پارچه، کمد و نخ و ساير کالاهاي خشک</td>\n",
       "      <td>کرمان</td>\n",
       "      <td>NaN</td>\n",
       "      <td>صفاشهر</td>\n",
       "      <td>130026.0</td>\n",
       "      <td>هدايت تراکنش</td>\n",
       "      <td>4040.0</td>\n",
       "      <td>نمايندگي آفتاب رايانه پردازان آذر- آذربايجان شرقي</td>\n",
       "      <td>266.0</td>\n",
       "      <td>درخواست ابطال</td>\n",
       "      <td>Bitel</td>\n",
       "      <td>S910</td>\n",
       "      <td>GPRS</td>\n",
       "    </tr>\n",
       "    <tr>\n",
       "      <th>1</th>\n",
       "      <td>7492335.0</td>\n",
       "      <td>504141098.0</td>\n",
       "      <td>59.0</td>\n",
       "      <td>5260.0</td>\n",
       "      <td>132850897.0</td>\n",
       "      <td>5094.0</td>\n",
       "      <td>تعميرگاه لوازم الکترونيکي</td>\n",
       "      <td>خوزستان</td>\n",
       "      <td>29.0</td>\n",
       "      <td>سجاس</td>\n",
       "      <td>117085.0</td>\n",
       "      <td>بازاريابي</td>\n",
       "      <td>6060.0</td>\n",
       "      <td>دفتر نمايندگي تهران</td>\n",
       "      <td>255.0</td>\n",
       "      <td>NaN</td>\n",
       "      <td>Bitel</td>\n",
       "      <td>G870</td>\n",
       "      <td>GPRS</td>\n",
       "    </tr>\n",
       "    <tr>\n",
       "      <th>2</th>\n",
       "      <td>3105267.0</td>\n",
       "      <td>358624631.0</td>\n",
       "      <td>48.0</td>\n",
       "      <td>5093.0</td>\n",
       "      <td>349949357.0</td>\n",
       "      <td>4468.0</td>\n",
       "      <td>مراکز پرستاري و مراقبتهاي فردي</td>\n",
       "      <td>يزد</td>\n",
       "      <td>11.0</td>\n",
       "      <td>گلشهر</td>\n",
       "      <td>114007.0</td>\n",
       "      <td>سپند</td>\n",
       "      <td>2020.0</td>\n",
       "      <td>نمايندگي آفتاب رايانه پردازان آذر- آذربايجان شرقي</td>\n",
       "      <td>121.0</td>\n",
       "      <td>NaN</td>\n",
       "      <td>NaN</td>\n",
       "      <td>NaN</td>\n",
       "      <td>GPRS</td>\n",
       "    </tr>\n",
       "    <tr>\n",
       "      <th>3</th>\n",
       "      <td>7705624.0</td>\n",
       "      <td>554923703.0</td>\n",
       "      <td>60.0</td>\n",
       "      <td>3845.0</td>\n",
       "      <td>324681189.0</td>\n",
       "      <td>5192.0</td>\n",
       "      <td>کفش فروشيها</td>\n",
       "      <td>گيلان</td>\n",
       "      <td>39.0</td>\n",
       "      <td>تربت حيدريه</td>\n",
       "      <td>129010.0</td>\n",
       "      <td>پروژه خاص</td>\n",
       "      <td>2020.0</td>\n",
       "      <td>نمايندگي آفتاب رايانه پردازان آذر- آذربايجان شرقي</td>\n",
       "      <td>170.0</td>\n",
       "      <td>ابطال شده</td>\n",
       "      <td>NaN</td>\n",
       "      <td>D210</td>\n",
       "      <td>GPRS</td>\n",
       "    </tr>\n",
       "    <tr>\n",
       "      <th>4</th>\n",
       "      <td>6010831.0</td>\n",
       "      <td>332955099.0</td>\n",
       "      <td>79.0</td>\n",
       "      <td>4057.0</td>\n",
       "      <td>317579086.0</td>\n",
       "      <td>5966.0</td>\n",
       "      <td>آژانسهاي کاريابي و تامين نيروي کار موقت</td>\n",
       "      <td>کهگيلويه وبويراحمد</td>\n",
       "      <td>36.0</td>\n",
       "      <td>شوش</td>\n",
       "      <td>124019.0</td>\n",
       "      <td>پروژه خاص</td>\n",
       "      <td>5050.0</td>\n",
       "      <td>نمايندگي سامانه الکترونيک انصار-قزوين</td>\n",
       "      <td>177.0</td>\n",
       "      <td>NaN</td>\n",
       "      <td>Bitel</td>\n",
       "      <td>D230</td>\n",
       "      <td>GPRS</td>\n",
       "    </tr>\n",
       "  </tbody>\n",
       "</table>\n",
       "</div>"
      ],
      "text/plain": [
       "    Terminal  NATIONALCODE  RECENCY  Frequency     Monetary  CATEGORYCODE  \\\n",
       "0  7190521.0   117074761.0     47.0     3986.0  474325723.0        7623.0   \n",
       "1  7492335.0   504141098.0     59.0     5260.0  132850897.0        5094.0   \n",
       "2  3105267.0   358624631.0     48.0     5093.0  349949357.0        4468.0   \n",
       "3  7705624.0   554923703.0     60.0     3845.0  324681189.0        5192.0   \n",
       "4  6010831.0   332955099.0     79.0     4057.0  317579086.0        5966.0   \n",
       "\n",
       "                             CATEGORY_NAME        PROVINCENAME  PROVINCECODE  \\\n",
       "0       پارچه، کمد و نخ و ساير کالاهاي خشک               کرمان           NaN   \n",
       "1                تعميرگاه لوازم الکترونيکي             خوزستان          29.0   \n",
       "2           مراکز پرستاري و مراقبتهاي فردي                 يزد          11.0   \n",
       "3                              کفش فروشيها               گيلان          39.0   \n",
       "4  آژانسهاي کاريابي و تامين نيروي کار موقت  کهگيلويه وبويراحمد          36.0   \n",
       "\n",
       "      CITYNAME  CITYCODE   PROJECTNAME  PROJECTCODE  \\\n",
       "0       صفاشهر  130026.0  هدايت تراکنش       4040.0   \n",
       "1         سجاس  117085.0     بازاريابي       6060.0   \n",
       "2        گلشهر  114007.0          سپند       2020.0   \n",
       "3  تربت حيدريه  129010.0     پروژه خاص       2020.0   \n",
       "4          شوش  124019.0     پروژه خاص       5050.0   \n",
       "\n",
       "                                           AGENTNAME  AGENTCODE  \\\n",
       "0  نمايندگي آفتاب رايانه پردازان آذر- آذربايجان شرقي      266.0   \n",
       "1                                دفتر نمايندگي تهران      255.0   \n",
       "2  نمايندگي آفتاب رايانه پردازان آذر- آذربايجان شرقي      121.0   \n",
       "3  نمايندگي آفتاب رايانه پردازان آذر- آذربايجان شرقي      170.0   \n",
       "4              نمايندگي سامانه الکترونيک انصار-قزوين      177.0   \n",
       "\n",
       "  TERMINALSTATUS POSBRAND POSMODEL POSTYPE  \n",
       "0  درخواست ابطال    Bitel     S910    GPRS  \n",
       "1            NaN    Bitel     G870    GPRS  \n",
       "2            NaN      NaN      NaN    GPRS  \n",
       "3      ابطال شده      NaN     D210    GPRS  \n",
       "4            NaN    Bitel     D230    GPRS  "
      ]
     },
     "execution_count": 255,
     "metadata": {},
     "output_type": "execute_result"
    }
   ],
   "source": [
    "DataFrame_Path = r\"C:\\Users\\asus\\Desktop\\MAHDI,Central\\Programming\\github\\Repositories\\AI\\7- RFM\\RFM on real data set\\RFM_FINAL.xlsx\"\n",
    "DataFrame = pd.read_excel(DataFrame_Path)\n",
    "DataFrame = DataFrame.rename(columns = {\"TERMINAL_NO\":\"Terminal\", \"MONETARY\":\"Monetary\", \"FREQUENCY\":\"Frequency\"})\n",
    "DataFrame.head()"
   ]
  },
  {
   "cell_type": "markdown",
   "metadata": {},
   "source": [
    "### Unique Value"
   ]
  },
  {
   "cell_type": "code",
   "execution_count": null,
   "metadata": {},
   "outputs": [],
   "source": []
  },
  {
   "cell_type": "code",
   "execution_count": 256,
   "metadata": {},
   "outputs": [
    {
     "name": "stdout",
     "output_type": "stream",
     "text": [
      "+----------------+--------------+\n",
      "|    Feature     | Unique Value |\n",
      "+----------------+--------------+\n",
      "|    Terminal    |    37713     |\n",
      "|  NATIONALCODE  |    37708     |\n",
      "|    RECENCY     |      89      |\n",
      "|   Frequency    |    15808     |\n",
      "|    Monetary    |    37711     |\n",
      "|  CATEGORYCODE  |     273      |\n",
      "| CATEGORY_NAME  |     278      |\n",
      "|  PROVINCENAME  |      29      |\n",
      "|  PROVINCECODE  |      29      |\n",
      "|    CITYNAME    |     664      |\n",
      "|    CITYCODE    |     673      |\n",
      "|  PROJECTNAME   |      5       |\n",
      "|  PROJECTCODE   |      5       |\n",
      "|   AGENTNAME    |      69      |\n",
      "|   AGENTCODE    |      69      |\n",
      "| TERMINALSTATUS |      2       |\n",
      "|    POSBRAND    |      2       |\n",
      "|    POSMODEL    |      13      |\n",
      "|    POSTYPE     |      1       |\n",
      "+----------------+--------------+\n"
     ]
    }
   ],
   "source": [
    "unique_counts = PrettyTable()\n",
    "unique_counts.field_names = [\"Feature\", \"Unique Value\"]\n",
    "\n",
    "for column in DataFrame.columns:\n",
    "    count = DataFrame[column].nunique()\n",
    "    unique_counts.add_row([column, count])\n",
    "\n",
    "\n",
    "print(unique_counts)    \n"
   ]
  },
  {
   "cell_type": "markdown",
   "metadata": {},
   "source": [
    "### Load Columns"
   ]
  },
  {
   "cell_type": "code",
   "execution_count": 257,
   "metadata": {},
   "outputs": [],
   "source": [
    "# Terminal = DataFrame.iloc[:, 0]\n",
    "# Recency = DataFrame.iloc[:, 2]\n",
    "# Frequency = DataFrame.iloc[:, 3]\n",
    "# Monetary = DataFrame.iloc[:, 4]\n",
    "\n",
    "# print(DataFrame[\"Terminal\"])\n",
    "# print(Terminal.shape == Recency.shape == Frequency.shape)\n"
   ]
  },
  {
   "cell_type": "markdown",
   "metadata": {},
   "source": [
    "### Drop NaN Rows"
   ]
  },
  {
   "cell_type": "code",
   "execution_count": 258,
   "metadata": {},
   "outputs": [
    {
     "name": "stdout",
     "output_type": "stream",
     "text": [
      "Terminal              9\n",
      "NATIONALCODE          9\n",
      "RECENCY               9\n",
      "Frequency             9\n",
      "Monetary              9\n",
      "CATEGORYCODE          9\n",
      "CATEGORY_NAME         9\n",
      "PROVINCENAME       1285\n",
      "PROVINCECODE       1242\n",
      "CITYNAME             70\n",
      "CITYCODE             69\n",
      "PROJECTNAME        6327\n",
      "PROJECTCODE        6368\n",
      "AGENTNAME           522\n",
      "AGENTCODE           564\n",
      "TERMINALSTATUS    12512\n",
      "POSBRAND          12647\n",
      "POSMODEL           2730\n",
      "POSTYPE               9\n",
      "dtype: int64\n",
      "Befor Drop : (37722, 19)\n",
      "After Drop (37713, 3)\n"
     ]
    }
   ],
   "source": [
    "print(DataFrame.isna().sum())\n",
    "\n",
    "print(f\"Befor Drop : {DataFrame.shape}\")\n",
    "DataFrame = pd.concat([DataFrame[\"Terminal\"], DataFrame[\"Monetary\"], DataFrame[\"Frequency\"]], axis=1).dropna()\n",
    "print(f\"After Drop {DataFrame.shape}\")\n"
   ]
  },
  {
   "cell_type": "markdown",
   "metadata": {},
   "source": [
    "### Frequency Clustering"
   ]
  },
  {
   "cell_type": "code",
   "execution_count": 264,
   "metadata": {},
   "outputs": [
    {
     "name": "stdout",
     "output_type": "stream",
     "text": [
      "0        1\n",
      "1        2\n",
      "2        1\n",
      "3        1\n",
      "4        1\n",
      "        ..\n",
      "37708    0\n",
      "37709    6\n",
      "37710    6\n",
      "37711    5\n",
      "37712    1\n",
      "Name: 0, Length: 37713, dtype: int64\n",
      "(37713,)\n"
     ]
    }
   ],
   "source": [
    "# Data = np.array(DataFrame[\"Frequency\"].dropna())\n",
    "Data = np.array(DataFrame[\"Frequency\"])\n",
    "model = KMeans(n_clusters=7, random_state=0)\n",
    "model = model.fit(scale(Data).reshape(-1,1))\n",
    "# print(model.labels_)\n",
    "idx = np.argsort(model.cluster_centers_.sum(axis=1))\n",
    "lut = np.zeros_like(idx)\n",
    "lut[idx] = np.arange(7)\n",
    "\n",
    "FrequencyClustering = pd.DataFrame(lut[model.labels_])[0]\n",
    "print(FrequencyClustering)\n",
    "print(FrequencyClustering.shape)\n",
    "\n"
   ]
  },
  {
   "cell_type": "markdown",
   "metadata": {},
   "source": [
    "### Monetary Clustering"
   ]
  },
  {
   "cell_type": "code",
   "execution_count": 260,
   "metadata": {},
   "outputs": [
    {
     "name": "stdout",
     "output_type": "stream",
     "text": [
      "(37713,)\n",
      "True\n"
     ]
    }
   ],
   "source": [
    "# Data = np.array((DataFrame[\"Monetary\"].dropna())/10)\n",
    "Data = np.array((DataFrame[\"Monetary\"])/10)\n",
    "model = KMeans(n_clusters=7, random_state=0)\n",
    "model = model.fit(scale(Data).reshape(-1,1))\n",
    "# print(model.labels_)\n",
    "idx = np.argsort(model.cluster_centers_.sum(axis=1))\n",
    "lut = np.zeros_like(idx)\n",
    "lut[idx] = np.arange(7)\n",
    "\n",
    "MonetaryClustering = pd.DataFrame(lut[model.labels_])[0]\n",
    "print(MonetaryClustering.shape)\n",
    "\n",
    "print( DataFrame[\"Terminal\"].shape == MonetaryClustering.shape )\n"
   ]
  },
  {
   "cell_type": "markdown",
   "metadata": {},
   "source": [
    "### F per M Heatmap"
   ]
  },
  {
   "cell_type": "code",
   "execution_count": 266,
   "metadata": {},
   "outputs": [
    {
     "name": "stdout",
     "output_type": "stream",
     "text": [
      "0        7190521.0\n",
      "1        7492335.0\n",
      "2        3105267.0\n",
      "3        7705624.0\n",
      "4        6010831.0\n",
      "           ...    \n",
      "37708    4073989.0\n",
      "37709    6068137.0\n",
      "37710    4710258.0\n",
      "37711    4251819.0\n",
      "37712    2125095.0\n",
      "Name: Terminal, Length: 37713, dtype: float64\n"
     ]
    }
   ],
   "source": [
    "print(DataFrame[\"Terminal\"].reset_index()[\"Terminal\"])"
   ]
  },
  {
   "cell_type": "code",
   "execution_count": 310,
   "metadata": {},
   "outputs": [
    {
     "data": {
      "text/plain": [
       "<AxesSubplot:xlabel='Frequency', ylabel='Monetary'>"
      ]
     },
     "execution_count": 310,
     "metadata": {},
     "output_type": "execute_result"
    },
    {
     "data": {
      "image/png": "[encoded data removed]",
      "text/plain": [
       "<Figure size 432x288 with 2 Axes>"
      ]
     },
     "metadata": {
      "needs_background": "light"
     },
     "output_type": "display_data"
    }
   ],
   "source": [
    "df_Terminal_M_F = pd.concat([(DataFrame[\"Terminal\"].reset_index()[\"Terminal\"]), MonetaryClustering, FrequencyClustering], ignore_index=True, axis=1)\n",
    "df_Terminal_M_F.rename(columns={0:\"Terminal\", 1:\"Monetary\", 2:\"Frequency\"}, inplace=True)\n",
    "\n",
    "x = df_Terminal_M_F.groupby([\"Monetary\", \"Frequency\"], as_index=False).count()\n",
    "# print(x)\n",
    "\n",
    "\n",
    "pivot_M_F = pd.pivot(x,index=\"Monetary\", columns=\"Frequency\", values=\"Terminal\")\n",
    "# print(pivot_M_F)\n",
    "\n",
    "sns.heatmap(pivot_M_F)"
   ]
  },
  {
   "cell_type": "code",
   "execution_count": null,
   "metadata": {},
   "outputs": [],
   "source": [
    "\n",
    "\n",
    "\n",
    "\n"
   ]
  },
  {
   "cell_type": "code",
   "execution_count": null,
   "metadata": {},
   "outputs": [],
   "source": []
  },
  {
   "cell_type": "code",
   "execution_count": null,
   "metadata": {},
   "outputs": [],
   "source": []
  }
 ],
 "metadata": {
  "kernelspec": {
   "display_name": "Python 3.9.2 64-bit",
   "language": "python",
   "name": "python3"
  },
  "language_info": {
   "codemirror_mode": {
    "name": "ipython",
    "version": 3
   },
   "file_extension": ".py",
   "mimetype": "text/x-python",
   "name": "python",
   "nbconvert_exporter": "python",
   "pygments_lexer": "ipython3",
   "version": "3.9.2"
  },
  "orig_nbformat": 4,
  "vscode": {
   "interpreter": {
    "hash": "b667cebad148e7b094a58ee81f940c685de1dd70a003a9ccdca4a5792431bee5"
   }
  }
 },
 "nbformat": 4,
 "nbformat_minor": 2
}
