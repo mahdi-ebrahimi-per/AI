{
 "cells": [
  {
   "cell_type": "markdown",
   "source": [
    "# run this in google colab"
   ],
   "metadata": {}
  },
  {
   "cell_type": "code",
   "execution_count": 6,
   "source": [
    "!git clone https://bitbucket.org/jadslim/german-traffic-signs\r\n",
    "!ls german-traffic-signs"
   ],
   "outputs": [
    {
     "output_type": "stream",
     "name": "stderr",
     "text": [
      "'git' is not recognized as an internal or external command,\n",
      "operable program or batch file.\n",
      "'ls' is not recognized as an internal or external command,\n",
      "operable program or batch file.\n"
     ]
    }
   ],
   "metadata": {}
  },
  {
   "cell_type": "code",
   "execution_count": 2,
   "source": [
    "import numpy as np\r\n",
    "import matplotlib.pyplot as plt\r\n",
    "import keras\r\n",
    "import random\r\n",
    "import pickle\r\n",
    "import pandas as pd\r\n",
    "import cv2\r\n",
    "\r\n",
    "from keras.models import Sequential\r\n",
    "from keras.layers import Dense\r\n",
    "from keras.optimizers import Adam\r\n",
    "from keras.utils.np_utils import to_categorical\r\n",
    "from keras.layers import Dropout\r\n",
    "from keras.layers import Flatten\r\n",
    "from keras.layers.convolutional import Conv2D\r\n",
    "from keras.layers.convolutional import MaxPooling2D"
   ],
   "outputs": [],
   "metadata": {}
  },
  {
   "cell_type": "code",
   "execution_count": 3,
   "source": [
    "np.random.seed(0)"
   ],
   "outputs": [],
   "metadata": {}
  },
  {
   "cell_type": "code",
   "execution_count": 4,
   "source": [
    "with open('german-traffic-signs/train.p', 'rb') as f:\r\n",
    "  train_data = pickle.load(f)\r\n",
    "with open('german-traffic-signs/valid.p', 'rb') as f:\r\n",
    "  valid_data = pickle.load(f)\r\n",
    "with open('german-traffic-signs/test.p', 'rb') as f:\r\n",
    "  test_data = pickle.load(f)\r\n"
   ],
   "outputs": [
    {
     "output_type": "error",
     "ename": "FileNotFoundError",
     "evalue": "[Errno 2] No such file or directory: 'german-traffic-signs/train.p'",
     "traceback": [
      "\u001b[1;31m---------------------------------------------------------------------------\u001b[0m",
      "\u001b[1;31mFileNotFoundError\u001b[0m                         Traceback (most recent call last)",
      "\u001b[1;32m<ipython-input-4-4120fbfb90cd>\u001b[0m in \u001b[0;36m<module>\u001b[1;34m\u001b[0m\n\u001b[1;32m----> 1\u001b[1;33m \u001b[1;32mwith\u001b[0m \u001b[0mopen\u001b[0m\u001b[1;33m(\u001b[0m\u001b[1;34m'german-traffic-signs/train.p'\u001b[0m\u001b[1;33m,\u001b[0m \u001b[1;34m'rb'\u001b[0m\u001b[1;33m)\u001b[0m \u001b[1;32mas\u001b[0m \u001b[0mf\u001b[0m\u001b[1;33m:\u001b[0m\u001b[1;33m\u001b[0m\u001b[1;33m\u001b[0m\u001b[0m\n\u001b[0m\u001b[0;32m      2\u001b[0m   \u001b[0mtrain_data\u001b[0m \u001b[1;33m=\u001b[0m \u001b[0mpickle\u001b[0m\u001b[1;33m.\u001b[0m\u001b[0mload\u001b[0m\u001b[1;33m(\u001b[0m\u001b[0mf\u001b[0m\u001b[1;33m)\u001b[0m\u001b[1;33m\u001b[0m\u001b[1;33m\u001b[0m\u001b[0m\n\u001b[0;32m      3\u001b[0m \u001b[1;32mwith\u001b[0m \u001b[0mopen\u001b[0m\u001b[1;33m(\u001b[0m\u001b[1;34m'german-traffic-signs/valid.p'\u001b[0m\u001b[1;33m,\u001b[0m \u001b[1;34m'rb'\u001b[0m\u001b[1;33m)\u001b[0m \u001b[1;32mas\u001b[0m \u001b[0mf\u001b[0m\u001b[1;33m:\u001b[0m\u001b[1;33m\u001b[0m\u001b[1;33m\u001b[0m\u001b[0m\n\u001b[0;32m      4\u001b[0m   \u001b[0mvalid_data\u001b[0m \u001b[1;33m=\u001b[0m \u001b[0mpickle\u001b[0m\u001b[1;33m.\u001b[0m\u001b[0mload\u001b[0m\u001b[1;33m(\u001b[0m\u001b[0mf\u001b[0m\u001b[1;33m)\u001b[0m\u001b[1;33m\u001b[0m\u001b[1;33m\u001b[0m\u001b[0m\n\u001b[0;32m      5\u001b[0m \u001b[1;32mwith\u001b[0m \u001b[0mopen\u001b[0m\u001b[1;33m(\u001b[0m\u001b[1;34m'german-traffic-signs/test.p'\u001b[0m\u001b[1;33m,\u001b[0m \u001b[1;34m'rb'\u001b[0m\u001b[1;33m)\u001b[0m \u001b[1;32mas\u001b[0m \u001b[0mf\u001b[0m\u001b[1;33m:\u001b[0m\u001b[1;33m\u001b[0m\u001b[1;33m\u001b[0m\u001b[0m\n",
      "\u001b[1;31mFileNotFoundError\u001b[0m: [Errno 2] No such file or directory: 'german-traffic-signs/train.p'"
     ]
    }
   ],
   "metadata": {}
  },
  {
   "cell_type": "code",
   "execution_count": null,
   "source": [
    "for i in range(cols):\r\n",
    "    for j, row in data.iterrows():\r\n",
    "        x_selected = X_train[y_train==j]\r\n",
    "        axs[j][i].imshow(x_selected[random.randint(0,len(x_selected-1)),:,:], cmap= plt.get_cmap('gray'))\r\n",
    "        axs[j][i].axis('off')\r\n",
    "        if i==2:\r\n",
    "            axs[j][i].set_title(str(j) + \"-\" + row['SignName'])\r\n",
    "            num_of_samples.append(len(x_selected))\r\n"
   ],
   "outputs": [],
   "metadata": {}
  },
  {
   "cell_type": "code",
   "execution_count": null,
   "source": [
    "print(type(train_data))\r\n",
    "X_train, y_train = train_data['features'], train_data['labels']\r\n",
    "X_valid, y_valid = valid_data['features'], valid_data['labels']\r\n",
    "X_test, y_test = test_data['features'], test_data['labels']\r\n",
    "print(X_train.shape)\r\n",
    "print(X_valid.shape)\r\n",
    "print(X_test.shape)"
   ],
   "outputs": [],
   "metadata": {}
  },
  {
   "cell_type": "code",
   "execution_count": null,
   "source": [
    "assert(X_train.shape[0] == y_train.shape[0]), 'the number if image is not equal to the number of labels'\r\n",
    "assert(X_test.shape[0] == y_test.shape[0]), 'the number if image is not equal to the number of labels'\r\n",
    "assert(X_valid.shape[0] == y_valid.shape[0]), 'the number if image is not equal to the number of labels'\r\n",
    "assert(X_train.shape[1:] == (32, 32, 3)), 'the dimension of image are not 32*32*3'"
   ],
   "outputs": [],
   "metadata": {}
  },
  {
   "cell_type": "code",
   "execution_count": null,
   "source": [
    "data = pd.read_csv('german-traffic-signs/signnames.csv')\n",
    "num_of_samples= []\n",
    "cols = 5\n",
    "num_classes = 43\n",
    "fig, axs = plt.subplots(nrows= num_classes, ncols= cols, figsize = (5,50))\n",
    "fig.tight_layout()\n",
    "\n",
    "for i in range(cols):\n",
    "    for j, row in data.iterrows():\n",
    "        x_selected = X_train[y_train==j]\n",
    "        axs[j][i].imshow(x_selected[random.randint(0,len(x_selected-1)),:,:], cmap= plt.get_cmap('gray'))\n",
    "        axs[j][i].axis('off')\n",
    "        if i==2:\n",
    "            axs[j][i].set_title(str(j) + \"-\" + row['SignName'])\n",
    "            num_of_samples.append(len(x_selected))\n",
    "\n"
   ],
   "outputs": [],
   "metadata": {}
  },
  {
   "cell_type": "code",
   "execution_count": null,
   "source": [],
   "outputs": [],
   "metadata": {}
  }
 ],
 "metadata": {
  "kernelspec": {
   "display_name": "Python 3",
   "language": "python",
   "name": "python3"
  },
  "language_info": {
   "codemirror_mode": {
    "name": "ipython",
    "version": 3
   },
   "file_extension": ".py",
   "mimetype": "text/x-python",
   "name": "python",
   "nbconvert_exporter": "python",
   "pygments_lexer": "ipython3",
   "version": "3.8.5"
  }
 },
 "nbformat": 4,
 "nbformat_minor": 4
}