{
 "cells": [
  {
   "cell_type": "markdown",
   "source": [
    "# Decision Tree Implementation\r\n",
    "\r\n",
    "\r\n",
    "[![Open In Colab](https://colab.research.google.com/assets/colab-badge.svg)](https://colab.research.google.com/github/mahdi-ebrahimi-per/AI/blob/main/4-%20Decision%20Tree/decision%20tree.ipynb)\r\n",
    "\r\n",
    "<br>\r\n",
    "<br>\r\n",
    "<br>\r\n"
   ],
   "metadata": {}
  },
  {
   "cell_type": "markdown",
   "source": [
    "# import Libraries\r\n",
    "<br>\r\n",
    "<br>\r\n",
    "\r\n",
    "## install special libraris \r\n",
    "\r\n",
    "install pydot pachage\r\n",
    "\r\n",
    "        > pip install pydot\r\n",
    "<br>\r\n",
    "install scikit-learn at version 0.20.3\r\n",
    "\r\n",
    "        > pip install --upgrage scikit-learn==0.20.3\r\n",
    "\r\n",
    "OR use : `from six import StringIO`   (not tested)"
   ],
   "metadata": {}
  },
  {
   "cell_type": "code",
   "execution_count": 23,
   "source": [
    "\r\n",
    "import numpy as np\r\n",
    "import pandas as pd\r\n",
    "from sklearn import tree\r\n",
    "\r\n",
    "# special\r\n",
    "import pydot\r\n",
    "from IPython.display import Image\r\n",
    "# from sklearn.externals.six import StringIO\r\n",
    "from six import StringIO\r\n"
   ],
   "outputs": [],
   "metadata": {}
  },
  {
   "cell_type": "markdown",
   "source": [],
   "metadata": {}
  },
  {
   "cell_type": "markdown",
   "source": [
    "# Load and config CSV "
   ],
   "metadata": {}
  },
  {
   "cell_type": "code",
   "execution_count": 24,
   "source": [
    "\r\n",
    "df = pd.read_csv(\"PastHires.csv\", header=0)\r\n",
    "\r\n",
    "df.head()\r\n",
    "\r\n",
    "yes_no_map = {\"Y\" : 1, \"N\" : 0}\r\n",
    "df[\"Employed?\"] = df[\"Employed?\"].map(yes_no_map)\r\n",
    "df[\"Top-tier school\"] = df[\"Top-tier school\"].map(yes_no_map)\r\n",
    "df[\"Interned\"] = df[\"Interned\"].map(yes_no_map)\r\n",
    "df[\"Hired\"] = df[\"Hired\"].map(yes_no_map)\r\n",
    "\r\n",
    "edu_map = {\"BS\":0, \"MS\":1, \"PhD\":2}\r\n",
    "df[\"Level of Education\"] = df[\"Level of Education\"].map(edu_map)\r\n",
    " \r\n",
    "df.head()\r\n"
   ],
   "outputs": [
    {
     "output_type": "execute_result",
     "data": {
      "text/html": [
       "<div>\n",
       "<style scoped>\n",
       "    .dataframe tbody tr th:only-of-type {\n",
       "        vertical-align: middle;\n",
       "    }\n",
       "\n",
       "    .dataframe tbody tr th {\n",
       "        vertical-align: top;\n",
       "    }\n",
       "\n",
       "    .dataframe thead th {\n",
       "        text-align: right;\n",
       "    }\n",
       "</style>\n",
       "<table border=\"1\" class=\"dataframe\">\n",
       "  <thead>\n",
       "    <tr style=\"text-align: right;\">\n",
       "      <th></th>\n",
       "      <th>Years Experience</th>\n",
       "      <th>Employed?</th>\n",
       "      <th>Previous employers</th>\n",
       "      <th>Level of Education</th>\n",
       "      <th>Top-tier school</th>\n",
       "      <th>Interned</th>\n",
       "      <th>Hired</th>\n",
       "    </tr>\n",
       "  </thead>\n",
       "  <tbody>\n",
       "    <tr>\n",
       "      <th>0</th>\n",
       "      <td>10</td>\n",
       "      <td>1</td>\n",
       "      <td>4</td>\n",
       "      <td>0</td>\n",
       "      <td>0</td>\n",
       "      <td>0</td>\n",
       "      <td>1</td>\n",
       "    </tr>\n",
       "    <tr>\n",
       "      <th>1</th>\n",
       "      <td>0</td>\n",
       "      <td>0</td>\n",
       "      <td>0</td>\n",
       "      <td>0</td>\n",
       "      <td>1</td>\n",
       "      <td>1</td>\n",
       "      <td>1</td>\n",
       "    </tr>\n",
       "    <tr>\n",
       "      <th>2</th>\n",
       "      <td>7</td>\n",
       "      <td>0</td>\n",
       "      <td>6</td>\n",
       "      <td>0</td>\n",
       "      <td>0</td>\n",
       "      <td>0</td>\n",
       "      <td>0</td>\n",
       "    </tr>\n",
       "    <tr>\n",
       "      <th>3</th>\n",
       "      <td>2</td>\n",
       "      <td>1</td>\n",
       "      <td>1</td>\n",
       "      <td>1</td>\n",
       "      <td>1</td>\n",
       "      <td>0</td>\n",
       "      <td>1</td>\n",
       "    </tr>\n",
       "    <tr>\n",
       "      <th>4</th>\n",
       "      <td>20</td>\n",
       "      <td>0</td>\n",
       "      <td>2</td>\n",
       "      <td>2</td>\n",
       "      <td>1</td>\n",
       "      <td>0</td>\n",
       "      <td>0</td>\n",
       "    </tr>\n",
       "  </tbody>\n",
       "</table>\n",
       "</div>"
      ],
      "text/plain": [
       "   Years Experience  Employed?  Previous employers  Level of Education  \\\n",
       "0                10          1                   4                   0   \n",
       "1                 0          0                   0                   0   \n",
       "2                 7          0                   6                   0   \n",
       "3                 2          1                   1                   1   \n",
       "4                20          0                   2                   2   \n",
       "\n",
       "   Top-tier school  Interned  Hired  \n",
       "0                0         0      1  \n",
       "1                1         1      1  \n",
       "2                0         0      0  \n",
       "3                1         0      1  \n",
       "4                1         0      0  "
      ]
     },
     "metadata": {},
     "execution_count": 24
    }
   ],
   "metadata": {}
  },
  {
   "cell_type": "markdown",
   "source": [
    "# Fit Decision Tree"
   ],
   "metadata": {}
  },
  {
   "cell_type": "code",
   "execution_count": 25,
   "source": [
    "\r\n",
    "\r\n",
    "features = list(df.columns[:6]) # not including \"Hired\"\r\n",
    "\r\n",
    "y = df[\"Hired\"]\r\n",
    "x = df[features]\r\n",
    "\r\n",
    "# print(y)\r\n",
    "# print(x)\r\n",
    "\r\n",
    "clf = tree.DecisionTreeClassifier()\r\n",
    "clf.fit(x, y)\r\n",
    "\r\n",
    "\r\n"
   ],
   "outputs": [
    {
     "output_type": "execute_result",
     "data": {
      "text/plain": [
       "DecisionTreeClassifier()"
      ]
     },
     "metadata": {},
     "execution_count": 25
    }
   ],
   "metadata": {}
  },
  {
   "cell_type": "markdown",
   "source": [
    "# Show Graphical flowchart of tree"
   ],
   "metadata": {}
  },
  {
   "cell_type": "code",
   "execution_count": 30,
   "source": [
    "dot_data = StringIO()\r\n",
    "\r\n",
    "tree.export_graphviz(clf, out_file=dot_data, feature_names=features)\r\n",
    "graph = pydot.graph_from_dot_data(dot_data.getvalue())\r\n",
    "\r\n",
    "# Image(graph[0].create_png())\r\n",
    "    # unespected error :( "
   ],
   "outputs": [],
   "metadata": {}
  },
  {
   "cell_type": "code",
   "execution_count": null,
   "source": [],
   "outputs": [],
   "metadata": {}
  }
 ],
 "metadata": {
  "orig_nbformat": 4,
  "language_info": {
   "name": "python",
   "version": "3.8.5",
   "mimetype": "text/x-python",
   "codemirror_mode": {
    "name": "ipython",
    "version": 3
   },
   "pygments_lexer": "ipython3",
   "nbconvert_exporter": "python",
   "file_extension": ".py"
  },
  "kernelspec": {
   "name": "python3",
   "display_name": "Python 3.8.5 64-bit ('base': conda)"
  },
  "interpreter": {
   "hash": "770021e68aae5e5bc49f7a3b6edb919a4a251fef8e7696fd47196c25263b13c4"
  }
 },
 "nbformat": 4,
 "nbformat_minor": 2
}